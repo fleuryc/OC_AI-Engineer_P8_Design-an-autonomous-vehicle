{
 "cells": [
  {
   "cell_type": "code",
   "execution_count": 9,
   "metadata": {},
   "outputs": [],
   "source": [
    "import os\n",
    "\n",
    "from azureml.core import Environment, Experiment, ScriptRunConfig, Workspace\n",
    "from azureml.core.runconfig import DockerConfiguration\n",
    "from dotenv import load_dotenv\n",
    "\n",
    "load_dotenv()\n",
    "AZURE_SUBSCRIPTION_ID = os.getenv(\"AZURE_SUBSCRIPTION_ID\")\n",
    "AZURE_RESOURCE_GROUP = os.getenv(\"AZURE_RESOURCE_GROUP\")\n",
    "AZURE_WORKSPACE_NAME = os.getenv(\"AZURE_WORKSPACE_NAME\")\n"
   ]
  },
  {
   "cell_type": "code",
   "execution_count": 10,
   "metadata": {},
   "outputs": [
    {
     "name": "stderr",
     "output_type": "stream",
     "text": [
      "Converting non-string tag to string: (augment: False)\n",
      "Converting non-string tag to string: (resize: 64)\n"
     ]
    },
    {
     "name": "stdout",
     "output_type": "stream",
     "text": [
      "Submitted Run : amiable_star_7mw8w411\n",
      "Tags : {'_aml_system_ComputeTargetStatus': '{\"AllocationState\":\"steady\",\"PreparingNodeCount\":0,\"RunningNodeCount\":1,\"CurrentNodeCount\":1}', 'model': 'unet_xception', 'augment': 'False', 'resize': '64'}\n"
     ]
    },
    {
     "name": "stderr",
     "output_type": "stream",
     "text": [
      "Converting non-string tag to string: (augment: True)\n",
      "Converting non-string tag to string: (resize: 64)\n"
     ]
    },
    {
     "name": "stdout",
     "output_type": "stream",
     "text": [
      "Submitted Run : joyful_date_bjmn9z4b\n",
      "Tags : {'_aml_system_ComputeTargetStatus': '{\"AllocationState\":\"steady\",\"PreparingNodeCount\":0,\"RunningNodeCount\":1,\"CurrentNodeCount\":1}', 'model': 'unet_xception', 'augment': 'True', 'resize': '64'}\n"
     ]
    },
    {
     "name": "stderr",
     "output_type": "stream",
     "text": [
      "Converting non-string tag to string: (augment: False)\n",
      "Converting non-string tag to string: (resize: 80)\n"
     ]
    },
    {
     "name": "stdout",
     "output_type": "stream",
     "text": [
      "Submitted Run : bubbly_holiday_x9800pyr\n",
      "Tags : {'_aml_system_ComputeTargetStatus': '{\"AllocationState\":\"steady\",\"PreparingNodeCount\":0,\"RunningNodeCount\":1,\"CurrentNodeCount\":1}', 'model': 'unet_xception', 'augment': 'False', 'resize': '80'}\n"
     ]
    },
    {
     "name": "stderr",
     "output_type": "stream",
     "text": [
      "Converting non-string tag to string: (augment: True)\n",
      "Converting non-string tag to string: (resize: 80)\n"
     ]
    },
    {
     "name": "stdout",
     "output_type": "stream",
     "text": [
      "Submitted Run : plucky_grass_7lb87dx5\n",
      "Tags : {'_aml_system_ComputeTargetStatus': '{\"AllocationState\":\"steady\",\"PreparingNodeCount\":0,\"RunningNodeCount\":1,\"CurrentNodeCount\":1}', 'model': 'unet_xception', 'augment': 'True', 'resize': '80'}\n"
     ]
    },
    {
     "name": "stderr",
     "output_type": "stream",
     "text": [
      "Converting non-string tag to string: (augment: False)\n",
      "Converting non-string tag to string: (resize: 128)\n"
     ]
    },
    {
     "name": "stdout",
     "output_type": "stream",
     "text": [
      "Submitted Run : bright_hook_rhcwk1qg\n",
      "Tags : {'_aml_system_ComputeTargetStatus': '{\"AllocationState\":\"steady\",\"PreparingNodeCount\":0,\"RunningNodeCount\":1,\"CurrentNodeCount\":1}', 'model': 'unet_xception', 'augment': 'False', 'resize': '128'}\n"
     ]
    },
    {
     "name": "stderr",
     "output_type": "stream",
     "text": [
      "Converting non-string tag to string: (augment: True)\n",
      "Converting non-string tag to string: (resize: 128)\n"
     ]
    },
    {
     "name": "stdout",
     "output_type": "stream",
     "text": [
      "Submitted Run : tender_gyro_6qh065b8\n",
      "Tags : {'_aml_system_ComputeTargetStatus': '{\"AllocationState\":\"steady\",\"PreparingNodeCount\":0,\"RunningNodeCount\":1,\"CurrentNodeCount\":1}', 'model': 'unet_xception', 'augment': 'True', 'resize': '128'}\n"
     ]
    },
    {
     "name": "stderr",
     "output_type": "stream",
     "text": [
      "Converting non-string tag to string: (augment: False)\n",
      "Converting non-string tag to string: (resize: 160)\n"
     ]
    },
    {
     "name": "stdout",
     "output_type": "stream",
     "text": [
      "Submitted Run : funny_giraffe_pv0g8zbz\n",
      "Tags : {'_aml_system_ComputeTargetStatus': '{\"AllocationState\":\"steady\",\"PreparingNodeCount\":0,\"RunningNodeCount\":1,\"CurrentNodeCount\":1}', 'model': 'unet_xception', 'augment': 'False', 'resize': '160'}\n"
     ]
    },
    {
     "name": "stderr",
     "output_type": "stream",
     "text": [
      "Converting non-string tag to string: (augment: True)\n",
      "Converting non-string tag to string: (resize: 160)\n"
     ]
    },
    {
     "name": "stdout",
     "output_type": "stream",
     "text": [
      "Submitted Run : bubbly_berry_q9sfxjwx\n",
      "Tags : {'_aml_system_ComputeTargetStatus': '{\"AllocationState\":\"steady\",\"PreparingNodeCount\":0,\"RunningNodeCount\":1,\"CurrentNodeCount\":1}', 'model': 'unet_xception', 'augment': 'True', 'resize': '160'}\n"
     ]
    },
    {
     "name": "stderr",
     "output_type": "stream",
     "text": [
      "Converting non-string tag to string: (augment: False)\n",
      "Converting non-string tag to string: (resize: 256)\n"
     ]
    },
    {
     "name": "stdout",
     "output_type": "stream",
     "text": [
      "Submitted Run : gentle_sock_dccs8h6v\n",
      "Tags : {'_aml_system_ComputeTargetStatus': '{\"AllocationState\":\"steady\",\"PreparingNodeCount\":0,\"RunningNodeCount\":1,\"CurrentNodeCount\":1}', 'model': 'unet_xception', 'augment': 'False', 'resize': '256'}\n"
     ]
    },
    {
     "name": "stderr",
     "output_type": "stream",
     "text": [
      "Converting non-string tag to string: (augment: True)\n",
      "Converting non-string tag to string: (resize: 256)\n"
     ]
    },
    {
     "name": "stdout",
     "output_type": "stream",
     "text": [
      "Submitted Run : cyan_rocket_dhc2qsf7\n",
      "Tags : {'_aml_system_ComputeTargetStatus': '{\"AllocationState\":\"steady\",\"PreparingNodeCount\":0,\"RunningNodeCount\":1,\"CurrentNodeCount\":1}', 'model': 'unet_xception', 'augment': 'True', 'resize': '256'}\n"
     ]
    },
    {
     "name": "stderr",
     "output_type": "stream",
     "text": [
      "Converting non-string tag to string: (augment: False)\n",
      "Converting non-string tag to string: (resize: 320)\n"
     ]
    },
    {
     "name": "stdout",
     "output_type": "stream",
     "text": [
      "Submitted Run : crimson_lemon_3pwmbb9h\n",
      "Tags : {'_aml_system_ComputeTargetStatus': '{\"AllocationState\":\"steady\",\"PreparingNodeCount\":0,\"RunningNodeCount\":1,\"CurrentNodeCount\":1}', 'model': 'unet_xception', 'augment': 'False', 'resize': '320'}\n"
     ]
    },
    {
     "name": "stderr",
     "output_type": "stream",
     "text": [
      "Converting non-string tag to string: (augment: True)\n",
      "Converting non-string tag to string: (resize: 320)\n"
     ]
    },
    {
     "name": "stdout",
     "output_type": "stream",
     "text": [
      "Submitted Run : polite_puppy_qcw88ph4\n",
      "Tags : {'_aml_system_ComputeTargetStatus': '{\"AllocationState\":\"steady\",\"PreparingNodeCount\":0,\"RunningNodeCount\":1,\"CurrentNodeCount\":1}', 'model': 'unet_xception', 'augment': 'True', 'resize': '320'}\n"
     ]
    },
    {
     "name": "stderr",
     "output_type": "stream",
     "text": [
      "Converting non-string tag to string: (augment: False)\n",
      "Converting non-string tag to string: (resize: 512)\n"
     ]
    },
    {
     "name": "stdout",
     "output_type": "stream",
     "text": [
      "Submitted Run : good_energy_2235n7k0\n",
      "Tags : {'_aml_system_ComputeTargetStatus': '{\"AllocationState\":\"steady\",\"PreparingNodeCount\":0,\"RunningNodeCount\":1,\"CurrentNodeCount\":1}', 'model': 'unet_xception', 'augment': 'False', 'resize': '512'}\n"
     ]
    },
    {
     "name": "stderr",
     "output_type": "stream",
     "text": [
      "Converting non-string tag to string: (augment: True)\n",
      "Converting non-string tag to string: (resize: 512)\n"
     ]
    },
    {
     "name": "stdout",
     "output_type": "stream",
     "text": [
      "Submitted Run : jolly_frame_fnwd2xc8\n",
      "Tags : {'_aml_system_ComputeTargetStatus': '{\"AllocationState\":\"steady\",\"PreparingNodeCount\":0,\"RunningNodeCount\":1,\"CurrentNodeCount\":1}', 'model': 'unet_xception', 'augment': 'True', 'resize': '512'}\n"
     ]
    },
    {
     "name": "stderr",
     "output_type": "stream",
     "text": [
      "Converting non-string tag to string: (augment: False)\n",
      "Converting non-string tag to string: (resize: 640)\n"
     ]
    },
    {
     "name": "stdout",
     "output_type": "stream",
     "text": [
      "Submitted Run : kind_rhythm_vmfxrfjn\n",
      "Tags : {'_aml_system_ComputeTargetStatus': '{\"AllocationState\":\"steady\",\"PreparingNodeCount\":0,\"RunningNodeCount\":1,\"CurrentNodeCount\":1}', 'model': 'unet_xception', 'augment': 'False', 'resize': '640'}\n"
     ]
    },
    {
     "name": "stderr",
     "output_type": "stream",
     "text": [
      "Converting non-string tag to string: (augment: True)\n",
      "Converting non-string tag to string: (resize: 640)\n"
     ]
    },
    {
     "name": "stdout",
     "output_type": "stream",
     "text": [
      "Submitted Run : coral_cassava_xfj767r4\n",
      "Tags : {'_aml_system_ComputeTargetStatus': '{\"AllocationState\":\"steady\",\"PreparingNodeCount\":0,\"RunningNodeCount\":1,\"CurrentNodeCount\":1}', 'model': 'unet_xception', 'augment': 'True', 'resize': '640'}\n"
     ]
    }
   ],
   "source": [
    "experiment_name = \"oc-p8-experiment-1\"\n",
    "model_choices = [\"unet_xception\"]  # [\"unet_xception\"]\n",
    "augment_choices = [False, True]  # [False, True]\n",
    "resize_choices = [\n",
    "    64,\n",
    "    80,\n",
    "    128,\n",
    "    160,\n",
    "    256,\n",
    "    320,\n",
    "    512,\n",
    "    640,\n",
    "]  # [64, 80, 128, 160, 256, 320, 512, 640, 800, 1024]\n",
    "batch_size_per_resize = {\n",
    "    64: 128,\n",
    "    80: 128,\n",
    "    128: 64,\n",
    "    160: 64,\n",
    "    256: 32,\n",
    "    320: 32,\n",
    "    512: 16,\n",
    "    640: 8,\n",
    "    800: 4,\n",
    "    1024: 2,\n",
    "}\n",
    "\n",
    "source_directory = \"./train\"\n",
    "train_script = \"train.py\"\n",
    "compute_target = \"ocp8-cluster-gpu\"\n",
    "\n",
    "\n",
    "# connect to your workspace\n",
    "ws = Workspace(\n",
    "    subscription_id=AZURE_SUBSCRIPTION_ID,\n",
    "    resource_group=AZURE_RESOURCE_GROUP,\n",
    "    workspace_name=AZURE_WORKSPACE_NAME,\n",
    ")\n",
    "\n",
    "\n",
    "try:\n",
    "    env = Environment.get(workspace=ws, name=experiment_name)\n",
    "except:\n",
    "    env = Environment(name=experiment_name)\n",
    "    env.docker.base_image = None\n",
    "    env.docker.base_dockerfile = \"./train/Dockerfile\"\n",
    "    env.python.user_managed_dependencies = True\n",
    "    env.register(workspace=ws)\n",
    "\n",
    "for resize in resize_choices:\n",
    "    for model in model_choices:\n",
    "        for augment in augment_choices:\n",
    "            batch_size = batch_size_per_resize[resize]\n",
    "            run_config = ScriptRunConfig(\n",
    "                source_directory=source_directory,\n",
    "                script=train_script,\n",
    "                arguments=[\n",
    "                    \"--experiment\",\n",
    "                    experiment_name,\n",
    "                    \"--model\",\n",
    "                    model,\n",
    "                    \"--resize\",\n",
    "                    resize,\n",
    "                    \"--batch\",\n",
    "                    batch_size,\n",
    "                    \"--augment\" if augment else \"--no-augment\",\n",
    "                ],\n",
    "                compute_target=compute_target,\n",
    "                environment=env,\n",
    "                docker_runtime_config=DockerConfiguration(\n",
    "                    use_docker=True,\n",
    "                    arguments=[\n",
    "                        # see : https://docs.microsoft.com/en-us/python/api/azureml-core/azureml.data.filedataset?view=azure-ml-py#azureml-data-filedataset-mount\n",
    "                        \"--cap-add\",\n",
    "                        \"SYS_ADMIN\",\n",
    "                        \"--device\",\n",
    "                        \"/dev/fuse\",\n",
    "                    ],\n",
    "                ),\n",
    "            )\n",
    "\n",
    "            # create an experiment\n",
    "            exp = Experiment(workspace=ws, name=experiment_name)\n",
    "\n",
    "            # submit the run configuration to start the job\n",
    "            run = exp.submit(run_config)\n",
    "            run.tag(\"model\", model)\n",
    "            run.tag(\"augment\", augment)\n",
    "            run.tag(\"resize\", resize)\n",
    "\n",
    "            print(f\"Submitted Run : {run.display_name}\")\n",
    "            print(f\"Tags : {run.get_tags()}\")\n"
   ]
  }
 ],
 "metadata": {
  "interpreter": {
   "hash": "d8c2c830ee423e437a1692c62d7ec975894aa2a778a66c89e5cf73f15552e52b"
  },
  "kernelspec": {
   "display_name": "Python 3.9.7 ('env': venv)",
   "language": "python",
   "name": "python3"
  },
  "language_info": {
   "codemirror_mode": {
    "name": "ipython",
    "version": 3
   },
   "file_extension": ".py",
   "mimetype": "text/x-python",
   "name": "python",
   "nbconvert_exporter": "python",
   "pygments_lexer": "ipython3",
   "version": "3.9.7"
  },
  "orig_nbformat": 4
 },
 "nbformat": 4,
 "nbformat_minor": 2
}
