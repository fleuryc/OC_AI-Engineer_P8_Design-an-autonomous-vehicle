{
 "cells": [
  {
   "cell_type": "code",
   "execution_count": 3,
   "metadata": {},
   "outputs": [],
   "source": [
    "import os\n",
    "\n",
    "from azureml.core import Environment, Experiment, ScriptRunConfig, Workspace\n",
    "from azureml.core.runconfig import DockerConfiguration\n",
    "from dotenv import load_dotenv\n",
    "\n",
    "load_dotenv()\n",
    "AZURE_SUBSCRIPTION_ID = os.getenv(\"AZURE_SUBSCRIPTION_ID\")\n",
    "AZURE_RESOURCE_GROUP = os.getenv(\"AZURE_RESOURCE_GROUP\")\n",
    "AZURE_WORKSPACE_NAME = os.getenv(\"AZURE_WORKSPACE_NAME\")\n"
   ]
  },
  {
   "cell_type": "code",
   "execution_count": 4,
   "metadata": {},
   "outputs": [
    {
     "name": "stderr",
     "output_type": "stream",
     "text": [
      "Converting non-string tag to string: (augment: False)\n",
      "Converting non-string tag to string: (resize: 80)\n"
     ]
    },
    {
     "name": "stdout",
     "output_type": "stream",
     "text": [
      "Submitted Run : salmon_king_616ps0p3\n",
      "Tags : {'_aml_system_ComputeTargetStatus': '{\"AllocationState\":\"steady\",\"PreparingNodeCount\":0,\"RunningNodeCount\":1,\"CurrentNodeCount\":1}', 'model': 'unet_xception', 'augment': 'False', 'resize': '80'}\n"
     ]
    },
    {
     "name": "stderr",
     "output_type": "stream",
     "text": [
      "Converting non-string tag to string: (augment: True)\n",
      "Converting non-string tag to string: (resize: 80)\n"
     ]
    },
    {
     "name": "stdout",
     "output_type": "stream",
     "text": [
      "Submitted Run : silly_beard_qx97y99s\n",
      "Tags : {'_aml_system_ComputeTargetStatus': '{\"AllocationState\":\"steady\",\"PreparingNodeCount\":0,\"RunningNodeCount\":1,\"CurrentNodeCount\":1}', 'model': 'unet_xception', 'augment': 'True', 'resize': '80'}\n"
     ]
    },
    {
     "name": "stderr",
     "output_type": "stream",
     "text": [
      "Converting non-string tag to string: (augment: False)\n",
      "Converting non-string tag to string: (resize: 80)\n"
     ]
    },
    {
     "name": "stdout",
     "output_type": "stream",
     "text": [
      "Submitted Run : silly_map_lfxrvyd5\n",
      "Tags : {'_aml_system_ComputeTargetStatus': '{\"AllocationState\":\"steady\",\"PreparingNodeCount\":0,\"RunningNodeCount\":1,\"CurrentNodeCount\":1}', 'model': 'deeplab_v3plus', 'augment': 'False', 'resize': '80'}\n"
     ]
    },
    {
     "name": "stderr",
     "output_type": "stream",
     "text": [
      "Converting non-string tag to string: (augment: True)\n",
      "Converting non-string tag to string: (resize: 80)\n"
     ]
    },
    {
     "name": "stdout",
     "output_type": "stream",
     "text": [
      "Submitted Run : jovial_crayon_7z6yn44s\n",
      "Tags : {'_aml_system_ComputeTargetStatus': '{\"AllocationState\":\"steady\",\"PreparingNodeCount\":0,\"RunningNodeCount\":1,\"CurrentNodeCount\":1}', 'model': 'deeplab_v3plus', 'augment': 'True', 'resize': '80'}\n"
     ]
    },
    {
     "name": "stderr",
     "output_type": "stream",
     "text": [
      "Converting non-string tag to string: (augment: False)\n",
      "Converting non-string tag to string: (resize: 128)\n"
     ]
    },
    {
     "name": "stdout",
     "output_type": "stream",
     "text": [
      "Submitted Run : joyful_leather_qn8sjf0l\n",
      "Tags : {'_aml_system_ComputeTargetStatus': '{\"AllocationState\":\"steady\",\"PreparingNodeCount\":0,\"RunningNodeCount\":1,\"CurrentNodeCount\":1}', 'model': 'unet_xception', 'augment': 'False', 'resize': '128'}\n"
     ]
    },
    {
     "name": "stderr",
     "output_type": "stream",
     "text": [
      "Converting non-string tag to string: (augment: True)\n",
      "Converting non-string tag to string: (resize: 128)\n"
     ]
    },
    {
     "name": "stdout",
     "output_type": "stream",
     "text": [
      "Submitted Run : olive_rocket_3b93c6xn\n",
      "Tags : {'_aml_system_ComputeTargetStatus': '{\"AllocationState\":\"steady\",\"PreparingNodeCount\":0,\"RunningNodeCount\":1,\"CurrentNodeCount\":1}', 'model': 'unet_xception', 'augment': 'True', 'resize': '128'}\n"
     ]
    },
    {
     "name": "stderr",
     "output_type": "stream",
     "text": [
      "Converting non-string tag to string: (augment: False)\n",
      "Converting non-string tag to string: (resize: 128)\n"
     ]
    },
    {
     "name": "stdout",
     "output_type": "stream",
     "text": [
      "Submitted Run : neat_fennel_hrqp42s8\n",
      "Tags : {'_aml_system_ComputeTargetStatus': '{\"AllocationState\":\"steady\",\"PreparingNodeCount\":0,\"RunningNodeCount\":1,\"CurrentNodeCount\":1}', 'model': 'deeplab_v3plus', 'augment': 'False', 'resize': '128'}\n"
     ]
    },
    {
     "name": "stderr",
     "output_type": "stream",
     "text": [
      "Converting non-string tag to string: (augment: True)\n",
      "Converting non-string tag to string: (resize: 128)\n"
     ]
    },
    {
     "name": "stdout",
     "output_type": "stream",
     "text": [
      "Submitted Run : jolly_hair_25x2fg9f\n",
      "Tags : {'_aml_system_ComputeTargetStatus': '{\"AllocationState\":\"steady\",\"PreparingNodeCount\":0,\"RunningNodeCount\":1,\"CurrentNodeCount\":1}', 'model': 'deeplab_v3plus', 'augment': 'True', 'resize': '128'}\n"
     ]
    },
    {
     "name": "stderr",
     "output_type": "stream",
     "text": [
      "Converting non-string tag to string: (augment: False)\n",
      "Converting non-string tag to string: (resize: 160)\n"
     ]
    },
    {
     "name": "stdout",
     "output_type": "stream",
     "text": [
      "Submitted Run : busy_quill_sdfsmr9s\n",
      "Tags : {'_aml_system_ComputeTargetStatus': '{\"AllocationState\":\"steady\",\"PreparingNodeCount\":0,\"RunningNodeCount\":1,\"CurrentNodeCount\":1}', 'model': 'unet_xception', 'augment': 'False', 'resize': '160'}\n"
     ]
    },
    {
     "name": "stderr",
     "output_type": "stream",
     "text": [
      "Converting non-string tag to string: (augment: True)\n",
      "Converting non-string tag to string: (resize: 160)\n"
     ]
    },
    {
     "name": "stdout",
     "output_type": "stream",
     "text": [
      "Submitted Run : sweet_boot_lg12z83p\n",
      "Tags : {'_aml_system_ComputeTargetStatus': '{\"AllocationState\":\"steady\",\"PreparingNodeCount\":0,\"RunningNodeCount\":1,\"CurrentNodeCount\":1}', 'model': 'unet_xception', 'augment': 'True', 'resize': '160'}\n"
     ]
    },
    {
     "name": "stderr",
     "output_type": "stream",
     "text": [
      "Converting non-string tag to string: (augment: False)\n",
      "Converting non-string tag to string: (resize: 160)\n"
     ]
    },
    {
     "name": "stdout",
     "output_type": "stream",
     "text": [
      "Submitted Run : quirky_pea_vvwlfqx8\n",
      "Tags : {'_aml_system_ComputeTargetStatus': '{\"AllocationState\":\"steady\",\"PreparingNodeCount\":0,\"RunningNodeCount\":1,\"CurrentNodeCount\":1}', 'model': 'deeplab_v3plus', 'augment': 'False', 'resize': '160'}\n"
     ]
    },
    {
     "name": "stderr",
     "output_type": "stream",
     "text": [
      "Converting non-string tag to string: (augment: True)\n",
      "Converting non-string tag to string: (resize: 160)\n"
     ]
    },
    {
     "name": "stdout",
     "output_type": "stream",
     "text": [
      "Submitted Run : frank_jelly_2msyczjf\n",
      "Tags : {'_aml_system_ComputeTargetStatus': '{\"AllocationState\":\"steady\",\"PreparingNodeCount\":0,\"RunningNodeCount\":1,\"CurrentNodeCount\":1}', 'model': 'deeplab_v3plus', 'augment': 'True', 'resize': '160'}\n"
     ]
    },
    {
     "name": "stderr",
     "output_type": "stream",
     "text": [
      "Converting non-string tag to string: (augment: False)\n",
      "Converting non-string tag to string: (resize: 256)\n"
     ]
    },
    {
     "name": "stdout",
     "output_type": "stream",
     "text": [
      "Submitted Run : ashy_cushion_wnr1qsln\n",
      "Tags : {'_aml_system_ComputeTargetStatus': '{\"AllocationState\":\"steady\",\"PreparingNodeCount\":0,\"RunningNodeCount\":1,\"CurrentNodeCount\":1}', 'model': 'unet_xception', 'augment': 'False', 'resize': '256'}\n"
     ]
    },
    {
     "name": "stderr",
     "output_type": "stream",
     "text": [
      "Converting non-string tag to string: (augment: True)\n",
      "Converting non-string tag to string: (resize: 256)\n"
     ]
    },
    {
     "name": "stdout",
     "output_type": "stream",
     "text": [
      "Submitted Run : eager_salt_c1dyym4z\n",
      "Tags : {'_aml_system_ComputeTargetStatus': '{\"AllocationState\":\"steady\",\"PreparingNodeCount\":0,\"RunningNodeCount\":1,\"CurrentNodeCount\":1}', 'model': 'unet_xception', 'augment': 'True', 'resize': '256'}\n"
     ]
    },
    {
     "name": "stderr",
     "output_type": "stream",
     "text": [
      "Converting non-string tag to string: (augment: False)\n",
      "Converting non-string tag to string: (resize: 256)\n"
     ]
    },
    {
     "name": "stdout",
     "output_type": "stream",
     "text": [
      "Submitted Run : happy_oven_jphzq6wk\n",
      "Tags : {'_aml_system_ComputeTargetStatus': '{\"AllocationState\":\"steady\",\"PreparingNodeCount\":0,\"RunningNodeCount\":1,\"CurrentNodeCount\":1}', 'model': 'deeplab_v3plus', 'augment': 'False', 'resize': '256'}\n"
     ]
    },
    {
     "name": "stderr",
     "output_type": "stream",
     "text": [
      "Converting non-string tag to string: (augment: True)\n",
      "Converting non-string tag to string: (resize: 256)\n"
     ]
    },
    {
     "name": "stdout",
     "output_type": "stream",
     "text": [
      "Submitted Run : epic_zoo_ysxzkc9y\n",
      "Tags : {'_aml_system_ComputeTargetStatus': '{\"AllocationState\":\"steady\",\"PreparingNodeCount\":0,\"RunningNodeCount\":1,\"CurrentNodeCount\":1}', 'model': 'deeplab_v3plus', 'augment': 'True', 'resize': '256'}\n"
     ]
    },
    {
     "name": "stderr",
     "output_type": "stream",
     "text": [
      "Converting non-string tag to string: (augment: False)\n",
      "Converting non-string tag to string: (resize: 320)\n"
     ]
    },
    {
     "name": "stdout",
     "output_type": "stream",
     "text": [
      "Submitted Run : ivory_rose_8w96wchr\n",
      "Tags : {'_aml_system_ComputeTargetStatus': '{\"AllocationState\":\"steady\",\"PreparingNodeCount\":0,\"RunningNodeCount\":1,\"CurrentNodeCount\":1}', 'model': 'unet_xception', 'augment': 'False', 'resize': '320'}\n"
     ]
    },
    {
     "name": "stderr",
     "output_type": "stream",
     "text": [
      "Converting non-string tag to string: (augment: True)\n",
      "Converting non-string tag to string: (resize: 320)\n"
     ]
    },
    {
     "name": "stdout",
     "output_type": "stream",
     "text": [
      "Submitted Run : joyful_cart_5vb9vybx\n",
      "Tags : {'_aml_system_ComputeTargetStatus': '{\"AllocationState\":\"steady\",\"PreparingNodeCount\":0,\"RunningNodeCount\":1,\"CurrentNodeCount\":1}', 'model': 'unet_xception', 'augment': 'True', 'resize': '320'}\n"
     ]
    },
    {
     "name": "stderr",
     "output_type": "stream",
     "text": [
      "Converting non-string tag to string: (augment: False)\n",
      "Converting non-string tag to string: (resize: 320)\n"
     ]
    },
    {
     "name": "stdout",
     "output_type": "stream",
     "text": [
      "Submitted Run : modest_boot_tjtqn5qj\n",
      "Tags : {'_aml_system_ComputeTargetStatus': '{\"AllocationState\":\"steady\",\"PreparingNodeCount\":0,\"RunningNodeCount\":1,\"CurrentNodeCount\":1}', 'model': 'deeplab_v3plus', 'augment': 'False', 'resize': '320'}\n"
     ]
    },
    {
     "name": "stderr",
     "output_type": "stream",
     "text": [
      "Converting non-string tag to string: (augment: True)\n",
      "Converting non-string tag to string: (resize: 320)\n"
     ]
    },
    {
     "name": "stdout",
     "output_type": "stream",
     "text": [
      "Submitted Run : goofy_sugar_y7xf8tfl\n",
      "Tags : {'_aml_system_ComputeTargetStatus': '{\"AllocationState\":\"steady\",\"PreparingNodeCount\":0,\"RunningNodeCount\":1,\"CurrentNodeCount\":1}', 'model': 'deeplab_v3plus', 'augment': 'True', 'resize': '320'}\n"
     ]
    },
    {
     "name": "stderr",
     "output_type": "stream",
     "text": [
      "Converting non-string tag to string: (augment: False)\n",
      "Converting non-string tag to string: (resize: 512)\n"
     ]
    },
    {
     "name": "stdout",
     "output_type": "stream",
     "text": [
      "Submitted Run : great_machine_t8nj6jds\n",
      "Tags : {'_aml_system_ComputeTargetStatus': '{\"AllocationState\":\"steady\",\"PreparingNodeCount\":0,\"RunningNodeCount\":1,\"CurrentNodeCount\":1}', 'model': 'unet_xception', 'augment': 'False', 'resize': '512'}\n"
     ]
    },
    {
     "name": "stderr",
     "output_type": "stream",
     "text": [
      "Converting non-string tag to string: (augment: True)\n",
      "Converting non-string tag to string: (resize: 512)\n"
     ]
    },
    {
     "name": "stdout",
     "output_type": "stream",
     "text": [
      "Submitted Run : stoic_fennel_6sjdqbzg\n",
      "Tags : {'_aml_system_ComputeTargetStatus': '{\"AllocationState\":\"steady\",\"PreparingNodeCount\":0,\"RunningNodeCount\":1,\"CurrentNodeCount\":1}', 'model': 'unet_xception', 'augment': 'True', 'resize': '512'}\n"
     ]
    },
    {
     "name": "stderr",
     "output_type": "stream",
     "text": [
      "Converting non-string tag to string: (augment: False)\n",
      "Converting non-string tag to string: (resize: 512)\n"
     ]
    },
    {
     "name": "stdout",
     "output_type": "stream",
     "text": [
      "Submitted Run : maroon_night_k4mv2sgf\n",
      "Tags : {'_aml_system_ComputeTargetStatus': '{\"AllocationState\":\"steady\",\"PreparingNodeCount\":0,\"RunningNodeCount\":1,\"CurrentNodeCount\":1}', 'model': 'deeplab_v3plus', 'augment': 'False', 'resize': '512'}\n"
     ]
    },
    {
     "name": "stderr",
     "output_type": "stream",
     "text": [
      "Converting non-string tag to string: (augment: True)\n",
      "Converting non-string tag to string: (resize: 512)\n"
     ]
    },
    {
     "name": "stdout",
     "output_type": "stream",
     "text": [
      "Submitted Run : purple_brush_h814l12y\n",
      "Tags : {'_aml_system_ComputeTargetStatus': '{\"AllocationState\":\"steady\",\"PreparingNodeCount\":0,\"RunningNodeCount\":1,\"CurrentNodeCount\":1}', 'model': 'deeplab_v3plus', 'augment': 'True', 'resize': '512'}\n"
     ]
    },
    {
     "name": "stderr",
     "output_type": "stream",
     "text": [
      "Converting non-string tag to string: (augment: False)\n",
      "Converting non-string tag to string: (resize: 640)\n"
     ]
    },
    {
     "name": "stdout",
     "output_type": "stream",
     "text": [
      "Submitted Run : loyal_salt_2xpt0ry1\n",
      "Tags : {'_aml_system_ComputeTargetStatus': '{\"AllocationState\":\"steady\",\"PreparingNodeCount\":0,\"RunningNodeCount\":1,\"CurrentNodeCount\":1}', 'model': 'unet_xception', 'augment': 'False', 'resize': '640'}\n"
     ]
    },
    {
     "name": "stderr",
     "output_type": "stream",
     "text": [
      "Converting non-string tag to string: (augment: True)\n",
      "Converting non-string tag to string: (resize: 640)\n"
     ]
    },
    {
     "name": "stdout",
     "output_type": "stream",
     "text": [
      "Submitted Run : boring_celery_gc1l6ljn\n",
      "Tags : {'_aml_system_ComputeTargetStatus': '{\"AllocationState\":\"steady\",\"PreparingNodeCount\":0,\"RunningNodeCount\":1,\"CurrentNodeCount\":1}', 'model': 'unet_xception', 'augment': 'True', 'resize': '640'}\n"
     ]
    },
    {
     "name": "stderr",
     "output_type": "stream",
     "text": [
      "Converting non-string tag to string: (augment: False)\n",
      "Converting non-string tag to string: (resize: 640)\n"
     ]
    },
    {
     "name": "stdout",
     "output_type": "stream",
     "text": [
      "Submitted Run : joyful_gold_y5kmw9rh\n",
      "Tags : {'_aml_system_ComputeTargetStatus': '{\"AllocationState\":\"steady\",\"PreparingNodeCount\":0,\"RunningNodeCount\":1,\"CurrentNodeCount\":1}', 'model': 'deeplab_v3plus', 'augment': 'False', 'resize': '640'}\n"
     ]
    },
    {
     "name": "stderr",
     "output_type": "stream",
     "text": [
      "Converting non-string tag to string: (augment: True)\n",
      "Converting non-string tag to string: (resize: 640)\n"
     ]
    },
    {
     "name": "stdout",
     "output_type": "stream",
     "text": [
      "Submitted Run : modest_music_d5730djv\n",
      "Tags : {'_aml_system_ComputeTargetStatus': '{\"AllocationState\":\"steady\",\"PreparingNodeCount\":0,\"RunningNodeCount\":1,\"CurrentNodeCount\":1}', 'model': 'deeplab_v3plus', 'augment': 'True', 'resize': '640'}\n"
     ]
    }
   ],
   "source": [
    "experiment_name = \"oc-p8-experiment-1\"\n",
    "model_choices = [\"unet_xception\", \"deeplab_v3plus\"]\n",
    "augment_choices = [False, True]  # [False, True]\n",
    "resize_choices = [\n",
    "    64,\n",
    "    80,\n",
    "    128,\n",
    "    160,\n",
    "    256,\n",
    "    320,\n",
    "    512,\n",
    "    640,\n",
    "]  # [64, 80, 128, 160, 256, 320, 512, 640, 800, 1024]\n",
    "batch_size_per_resize = {\n",
    "    64: 128,\n",
    "    80: 128,\n",
    "    128: 64,\n",
    "    160: 64,\n",
    "    256: 32,\n",
    "    320: 32,\n",
    "    512: 16,\n",
    "    640: 8,\n",
    "    800: 4,\n",
    "    1024: 2,\n",
    "}\n",
    "\n",
    "source_directory = \"./train\"\n",
    "train_script = \"train.py\"\n",
    "compute_target = \"ocp8-cluster-gpu\"\n",
    "\n",
    "\n",
    "# connect to your workspace\n",
    "ws = Workspace(\n",
    "    subscription_id=AZURE_SUBSCRIPTION_ID,\n",
    "    resource_group=AZURE_RESOURCE_GROUP,\n",
    "    workspace_name=AZURE_WORKSPACE_NAME,\n",
    ")\n",
    "\n",
    "\n",
    "try:\n",
    "    env = Environment.get(workspace=ws, name=experiment_name)\n",
    "except:\n",
    "    env = Environment(name=experiment_name)\n",
    "    env.docker.base_image = None\n",
    "    env.docker.base_dockerfile = \"./train/Dockerfile\"\n",
    "    env.python.user_managed_dependencies = True\n",
    "    env.register(workspace=ws)\n",
    "\n",
    "\n",
    "for resize in resize_choices:\n",
    "    for model in model_choices:\n",
    "        for augment in augment_choices:\n",
    "            batch_size = batch_size_per_resize[resize]\n",
    "            run_config = ScriptRunConfig(\n",
    "                source_directory=source_directory,\n",
    "                script=train_script,\n",
    "                arguments=[\n",
    "                    \"--experiment\",\n",
    "                    experiment_name,\n",
    "                    \"--model\",\n",
    "                    model,\n",
    "                    \"--resize\",\n",
    "                    resize,\n",
    "                    \"--batch\",\n",
    "                    batch_size,\n",
    "                    \"--augment\" if augment else \"--no-augment\",\n",
    "                ],\n",
    "                compute_target=compute_target,\n",
    "                environment=env,\n",
    "                docker_runtime_config=DockerConfiguration(\n",
    "                    use_docker=True,\n",
    "                    arguments=[\n",
    "                        # see : https://docs.microsoft.com/en-us/python/api/azureml-core/azureml.data.filedataset?view=azure-ml-py#azureml-data-filedataset-mount\n",
    "                        \"--cap-add\",\n",
    "                        \"SYS_ADMIN\",\n",
    "                        \"--device\",\n",
    "                        \"/dev/fuse\",\n",
    "                    ],\n",
    "                ),\n",
    "            )\n",
    "\n",
    "            # create an experiment\n",
    "            exp = Experiment(workspace=ws, name=experiment_name)\n",
    "\n",
    "            # submit the run configuration to start the job\n",
    "            run = exp.submit(run_config)\n",
    "            run.tag(\"model\", model)\n",
    "            run.tag(\"augment\", augment)\n",
    "            run.tag(\"resize\", resize)\n",
    "\n",
    "            print(f\"Submitted Run : {run.display_name}\")\n",
    "            print(f\"Tags : {run.get_tags()}\")\n"
   ]
  }
 ],
 "metadata": {
  "interpreter": {
   "hash": "d8c2c830ee423e437a1692c62d7ec975894aa2a778a66c89e5cf73f15552e52b"
  },
  "kernelspec": {
   "display_name": "Python 3.9.7 ('env': venv)",
   "language": "python",
   "name": "python3"
  },
  "language_info": {
   "codemirror_mode": {
    "name": "ipython",
    "version": 3
   },
   "file_extension": ".py",
   "mimetype": "text/x-python",
   "name": "python",
   "nbconvert_exporter": "python",
   "pygments_lexer": "ipython3",
   "version": "3.9.7"
  },
  "orig_nbformat": 4
 },
 "nbformat": 4,
 "nbformat_minor": 2
}
