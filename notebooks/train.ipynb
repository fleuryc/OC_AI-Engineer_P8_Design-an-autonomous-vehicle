{
 "cells": [
  {
   "cell_type": "code",
   "execution_count": 1,
   "metadata": {},
   "outputs": [],
   "source": [
    "import os\n",
    "\n",
    "from azureml.core import Environment, Experiment, ScriptRunConfig, Workspace\n",
    "from azureml.core.runconfig import DockerConfiguration\n",
    "from dotenv import load_dotenv\n",
    "\n",
    "load_dotenv()\n",
    "AZURE_SUBSCRIPTION_ID = os.getenv(\"AZURE_SUBSCRIPTION_ID\")\n",
    "AZURE_RESOURCE_GROUP = os.getenv(\"AZURE_RESOURCE_GROUP\")\n",
    "AZURE_WORKSPACE_NAME = os.getenv(\"AZURE_WORKSPACE_NAME\")\n"
   ]
  },
  {
   "cell_type": "code",
   "execution_count": 2,
   "metadata": {},
   "outputs": [
    {
     "name": "stderr",
     "output_type": "stream",
     "text": [
      "Converting non-string tag to string: (augment: False)\n",
      "Converting non-string tag to string: (resize: 64)\n"
     ]
    },
    {
     "name": "stdout",
     "output_type": "stream",
     "text": [
      "Submitted Run : silly_cushion_z7938z6v\n",
      "Tags : {'model': 'unet_xception', 'augment': 'False', 'resize': '64'}\n"
     ]
    },
    {
     "name": "stderr",
     "output_type": "stream",
     "text": [
      "Converting non-string tag to string: (augment: True)\n",
      "Converting non-string tag to string: (resize: 64)\n"
     ]
    },
    {
     "name": "stdout",
     "output_type": "stream",
     "text": [
      "Submitted Run : lucid_double_hd8fsmsj\n",
      "Tags : {'model': 'unet_xception', 'augment': 'True', 'resize': '64'}\n"
     ]
    },
    {
     "name": "stderr",
     "output_type": "stream",
     "text": [
      "Converting non-string tag to string: (augment: False)\n",
      "Converting non-string tag to string: (resize: 64)\n"
     ]
    },
    {
     "name": "stdout",
     "output_type": "stream",
     "text": [
      "Submitted Run : brave_yogurt_2vdzdc6d\n",
      "Tags : {'model': 'deeplab_v3plus', 'augment': 'False', 'resize': '64'}\n"
     ]
    },
    {
     "name": "stderr",
     "output_type": "stream",
     "text": [
      "Converting non-string tag to string: (augment: True)\n",
      "Converting non-string tag to string: (resize: 64)\n"
     ]
    },
    {
     "name": "stdout",
     "output_type": "stream",
     "text": [
      "Submitted Run : calm_boat_wp4cj3l1\n",
      "Tags : {'model': 'deeplab_v3plus', 'augment': 'True', 'resize': '64'}\n"
     ]
    },
    {
     "name": "stderr",
     "output_type": "stream",
     "text": [
      "Converting non-string tag to string: (augment: False)\n",
      "Converting non-string tag to string: (resize: 64)\n"
     ]
    },
    {
     "name": "stdout",
     "output_type": "stream",
     "text": [
      "Submitted Run : nifty_sock_9x9138wc\n",
      "Tags : {'model': 'fcn_8', 'augment': 'False', 'resize': '64'}\n"
     ]
    },
    {
     "name": "stderr",
     "output_type": "stream",
     "text": [
      "Converting non-string tag to string: (augment: True)\n",
      "Converting non-string tag to string: (resize: 64)\n"
     ]
    },
    {
     "name": "stdout",
     "output_type": "stream",
     "text": [
      "Submitted Run : strong_leg_7b9d21zt\n",
      "Tags : {'model': 'fcn_8', 'augment': 'True', 'resize': '64'}\n"
     ]
    },
    {
     "name": "stderr",
     "output_type": "stream",
     "text": [
      "Converting non-string tag to string: (augment: False)\n",
      "Converting non-string tag to string: (resize: 64)\n"
     ]
    },
    {
     "name": "stdout",
     "output_type": "stream",
     "text": [
      "Submitted Run : affable_cat_4hkcg2v8\n",
      "Tags : {'model': 'vgg_segnet', 'augment': 'False', 'resize': '64'}\n"
     ]
    },
    {
     "name": "stderr",
     "output_type": "stream",
     "text": [
      "Converting non-string tag to string: (augment: True)\n",
      "Converting non-string tag to string: (resize: 64)\n"
     ]
    },
    {
     "name": "stdout",
     "output_type": "stream",
     "text": [
      "Submitted Run : clever_engine_r8jwvyl4\n",
      "Tags : {'model': 'vgg_segnet', 'augment': 'True', 'resize': '64'}\n"
     ]
    },
    {
     "name": "stderr",
     "output_type": "stream",
     "text": [
      "Converting non-string tag to string: (augment: False)\n"
     ]
    }
   ],
   "source": [
    "experiment_name = \"oc-p8-experiment-1\"\n",
    "model_choices = [\n",
    "    \"unet_xception\",\n",
    "    \"deeplab_v3plus\",\n",
    "    \"fcn_8\",\n",
    "    \"vgg_segnet\",\n",
    "]\n",
    "augment_choices = [False, True]  # [False, True]\n",
    "resize_choices = [\n",
    "    64,\n",
    "    # 80,\n",
    "    128,\n",
    "    # 160,\n",
    "    256,\n",
    "    # 320,\n",
    "    512,\n",
    "    # 640,\n",
    "]  # [64, 80, 128, 160, 256, 320, 512, 640, 800, 1024]\n",
    "batch_size_per_resize = {\n",
    "    64: 128,\n",
    "    80: 128,\n",
    "    128: 64,\n",
    "    160: 64,\n",
    "    256: 32,\n",
    "    320: 32,\n",
    "    512: 16,\n",
    "    640: 8,\n",
    "    800: 4,\n",
    "    1024: 2,\n",
    "}\n",
    "\n",
    "source_directory = \"./azureml\"\n",
    "compute_target = \"ocp8-cluster-gpu\"\n",
    "\n",
    "\n",
    "# connect to your workspace\n",
    "ws = Workspace(\n",
    "    subscription_id=AZURE_SUBSCRIPTION_ID,\n",
    "    resource_group=AZURE_RESOURCE_GROUP,\n",
    "    workspace_name=AZURE_WORKSPACE_NAME,\n",
    ")\n",
    "\n",
    "\n",
    "try:\n",
    "    env = Environment.get(workspace=ws, name=experiment_name)\n",
    "except:\n",
    "    env = Environment(name=experiment_name)\n",
    "    env.docker.base_image = None\n",
    "    env.docker.base_dockerfile = source_directory + \"/Dockerfile\"\n",
    "    env.python.user_managed_dependencies = True\n",
    "    env.register(workspace=ws)\n",
    "\n",
    "\n",
    "for resize in resize_choices:\n",
    "    for model in model_choices:\n",
    "        for augment in augment_choices:\n",
    "            batch_size = batch_size_per_resize[resize]\n",
    "            run_config = ScriptRunConfig(\n",
    "                source_directory=source_directory,\n",
    "                script=\"train.py\",\n",
    "                arguments=[\n",
    "                    \"--experiment\",\n",
    "                    experiment_name,\n",
    "                    \"--model\",\n",
    "                    model,\n",
    "                    \"--resize\",\n",
    "                    resize,\n",
    "                    \"--batch\",\n",
    "                    batch_size,\n",
    "                    \"--augment\" if augment else \"--no-augment\",\n",
    "                ],\n",
    "                compute_target=compute_target,\n",
    "                environment=env,\n",
    "                docker_runtime_config=DockerConfiguration(\n",
    "                    use_docker=True,\n",
    "                    arguments=[\n",
    "                        # see : https://docs.microsoft.com/en-us/python/api/azureml-core/azureml.data.filedataset?view=azure-ml-py#azureml-data-filedataset-mount\n",
    "                        \"--cap-add\",\n",
    "                        \"SYS_ADMIN\",\n",
    "                        \"--device\",\n",
    "                        \"/dev/fuse\",\n",
    "                    ],\n",
    "                ),\n",
    "            )\n",
    "\n",
    "            # create an experiment\n",
    "            exp = Experiment(workspace=ws, name=experiment_name)\n",
    "\n",
    "            # submit the run configuration to start the job\n",
    "            run = exp.submit(run_config)\n",
    "            run.tag(\"model\", model)\n",
    "            run.tag(\"augment\", augment)\n",
    "            run.tag(\"resize\", resize)\n",
    "\n",
    "            print(f\"Submitted Run : {run.display_name}\")\n",
    "            print(f\"Tags : {run.get_tags()}\")\n"
   ]
  }
 ],
 "metadata": {
  "interpreter": {
   "hash": "d8c2c830ee423e437a1692c62d7ec975894aa2a778a66c89e5cf73f15552e52b"
  },
  "kernelspec": {
   "display_name": "Python 3.9.7 ('env': venv)",
   "language": "python",
   "name": "python3"
  },
  "language_info": {
   "codemirror_mode": {
    "name": "ipython",
    "version": 3
   },
   "file_extension": ".py",
   "mimetype": "text/x-python",
   "name": "python",
   "nbconvert_exporter": "python",
   "pygments_lexer": "ipython3",
   "version": "3.9.7"
  },
  "orig_nbformat": 4
 },
 "nbformat": 4,
 "nbformat_minor": 2
}
