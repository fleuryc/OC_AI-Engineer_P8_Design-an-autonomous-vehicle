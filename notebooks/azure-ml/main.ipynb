{
 "cells": [
  {
   "cell_type": "code",
   "execution_count": 1,
   "metadata": {},
   "outputs": [],
   "source": [
    "import os\n",
    "\n",
    "from azureml.core import Environment, Experiment, ScriptRunConfig, Workspace\n",
    "from azureml.core.runconfig import DockerConfiguration\n",
    "from dotenv import load_dotenv\n",
    "\n",
    "load_dotenv()\n",
    "AZURE_SUBSCRIPTION_ID = os.getenv(\"AZURE_SUBSCRIPTION_ID\")\n",
    "AZURE_RESOURCE_GROUP = os.getenv(\"AZURE_RESOURCE_GROUP\")\n",
    "AZURE_WORKSPACE_NAME = os.getenv(\"AZURE_WORKSPACE_NAME\")\n"
   ]
  },
  {
   "cell_type": "code",
   "execution_count": 2,
   "metadata": {},
   "outputs": [
    {
     "name": "stderr",
     "output_type": "stream",
     "text": [
      "Converting non-string tag to string: (augment: False)\n",
      "Converting non-string tag to string: (resize: 64)\n"
     ]
    },
    {
     "name": "stdout",
     "output_type": "stream",
     "text": [
      "Submitted Run : clever_soccer_bb5kkkw3\n",
      "Tags : {'_aml_system_ComputeTargetStatus': '{\"AllocationState\":\"steady\",\"PreparingNodeCount\":0,\"RunningNodeCount\":0,\"CurrentNodeCount\":0}', 'model': 'unet_xception', 'augment': 'False', 'resize': '64'}\n"
     ]
    },
    {
     "name": "stderr",
     "output_type": "stream",
     "text": [
      "Converting non-string tag to string: (augment: False)\n",
      "Converting non-string tag to string: (resize: 80)\n"
     ]
    },
    {
     "name": "stdout",
     "output_type": "stream",
     "text": [
      "Submitted Run : olden_carnival_nj4xmtxn\n",
      "Tags : {'_aml_system_ComputeTargetStatus': '{\"AllocationState\":\"steady\",\"PreparingNodeCount\":0,\"RunningNodeCount\":0,\"CurrentNodeCount\":0}', 'model': 'unet_xception', 'augment': 'False', 'resize': '80'}\n"
     ]
    },
    {
     "name": "stderr",
     "output_type": "stream",
     "text": [
      "Converting non-string tag to string: (augment: False)\n",
      "Converting non-string tag to string: (resize: 128)\n"
     ]
    },
    {
     "name": "stdout",
     "output_type": "stream",
     "text": [
      "Submitted Run : jolly_lunch_9p9zwt20\n",
      "Tags : {'_aml_system_ComputeTargetStatus': '{\"AllocationState\":\"steady\",\"PreparingNodeCount\":0,\"RunningNodeCount\":0,\"CurrentNodeCount\":0}', 'model': 'unet_xception', 'augment': 'False', 'resize': '128'}\n"
     ]
    },
    {
     "name": "stderr",
     "output_type": "stream",
     "text": [
      "Converting non-string tag to string: (augment: False)\n",
      "Converting non-string tag to string: (resize: 160)\n"
     ]
    },
    {
     "name": "stdout",
     "output_type": "stream",
     "text": [
      "Submitted Run : blue_vulture_c16pxqwj\n",
      "Tags : {'_aml_system_ComputeTargetStatus': '{\"AllocationState\":\"steady\",\"PreparingNodeCount\":0,\"RunningNodeCount\":0,\"CurrentNodeCount\":0}', 'model': 'unet_xception', 'augment': 'False', 'resize': '160'}\n"
     ]
    },
    {
     "name": "stderr",
     "output_type": "stream",
     "text": [
      "Converting non-string tag to string: (augment: False)\n",
      "Converting non-string tag to string: (resize: 256)\n"
     ]
    },
    {
     "name": "stdout",
     "output_type": "stream",
     "text": [
      "Submitted Run : funny_shirt_swcgbd7d\n",
      "Tags : {'_aml_system_ComputeTargetStatus': '{\"AllocationState\":\"steady\",\"PreparingNodeCount\":0,\"RunningNodeCount\":0,\"CurrentNodeCount\":0}', 'model': 'unet_xception', 'augment': 'False', 'resize': '256'}\n"
     ]
    },
    {
     "name": "stderr",
     "output_type": "stream",
     "text": [
      "Converting non-string tag to string: (augment: False)\n",
      "Converting non-string tag to string: (resize: 320)\n"
     ]
    },
    {
     "name": "stdout",
     "output_type": "stream",
     "text": [
      "Submitted Run : red_quince_kn4j0c37\n",
      "Tags : {'_aml_system_ComputeTargetStatus': '{\"AllocationState\":\"steady\",\"PreparingNodeCount\":0,\"RunningNodeCount\":0,\"CurrentNodeCount\":0}', 'model': 'unet_xception', 'augment': 'False', 'resize': '320'}\n"
     ]
    },
    {
     "name": "stderr",
     "output_type": "stream",
     "text": [
      "Converting non-string tag to string: (augment: False)\n",
      "Converting non-string tag to string: (resize: 512)\n"
     ]
    },
    {
     "name": "stdout",
     "output_type": "stream",
     "text": [
      "Submitted Run : plucky_diamond_whgsn2q9\n",
      "Tags : {'_aml_system_ComputeTargetStatus': '{\"AllocationState\":\"resizing\",\"PreparingNodeCount\":0,\"RunningNodeCount\":0,\"CurrentNodeCount\":0}', 'model': 'unet_xception', 'augment': 'False', 'resize': '512'}\n"
     ]
    },
    {
     "name": "stderr",
     "output_type": "stream",
     "text": [
      "Converting non-string tag to string: (augment: True)\n",
      "Converting non-string tag to string: (resize: 64)\n"
     ]
    },
    {
     "name": "stdout",
     "output_type": "stream",
     "text": [
      "Submitted Run : ashy_battery_hd0gsc9y\n",
      "Tags : {'_aml_system_ComputeTargetStatus': '{\"AllocationState\":\"resizing\",\"PreparingNodeCount\":0,\"RunningNodeCount\":0,\"CurrentNodeCount\":0}', 'model': 'unet_xception', 'augment': 'True', 'resize': '64'}\n"
     ]
    },
    {
     "name": "stderr",
     "output_type": "stream",
     "text": [
      "Converting non-string tag to string: (augment: True)\n",
      "Converting non-string tag to string: (resize: 80)\n"
     ]
    },
    {
     "name": "stdout",
     "output_type": "stream",
     "text": [
      "Submitted Run : lime_grass_yrs16jhr\n",
      "Tags : {'_aml_system_ComputeTargetStatus': '{\"AllocationState\":\"resizing\",\"PreparingNodeCount\":0,\"RunningNodeCount\":0,\"CurrentNodeCount\":0}', 'model': 'unet_xception', 'augment': 'True', 'resize': '80'}\n"
     ]
    },
    {
     "name": "stderr",
     "output_type": "stream",
     "text": [
      "Converting non-string tag to string: (augment: True)\n",
      "Converting non-string tag to string: (resize: 128)\n"
     ]
    },
    {
     "name": "stdout",
     "output_type": "stream",
     "text": [
      "Submitted Run : wheat_gold_zgd4x9k6\n",
      "Tags : {'_aml_system_ComputeTargetStatus': '{\"AllocationState\":\"resizing\",\"PreparingNodeCount\":0,\"RunningNodeCount\":0,\"CurrentNodeCount\":0}', 'model': 'unet_xception', 'augment': 'True', 'resize': '128'}\n"
     ]
    },
    {
     "name": "stderr",
     "output_type": "stream",
     "text": [
      "Converting non-string tag to string: (augment: True)\n",
      "Converting non-string tag to string: (resize: 160)\n"
     ]
    },
    {
     "name": "stdout",
     "output_type": "stream",
     "text": [
      "Submitted Run : quirky_date_l269d3p9\n",
      "Tags : {'_aml_system_ComputeTargetStatus': '{\"AllocationState\":\"resizing\",\"PreparingNodeCount\":0,\"RunningNodeCount\":0,\"CurrentNodeCount\":0}', 'model': 'unet_xception', 'augment': 'True', 'resize': '160'}\n"
     ]
    },
    {
     "name": "stderr",
     "output_type": "stream",
     "text": [
      "Converting non-string tag to string: (augment: True)\n",
      "Converting non-string tag to string: (resize: 256)\n"
     ]
    },
    {
     "name": "stdout",
     "output_type": "stream",
     "text": [
      "Submitted Run : lime_chicken_rtg90k0s\n",
      "Tags : {'_aml_system_ComputeTargetStatus': '{\"AllocationState\":\"resizing\",\"PreparingNodeCount\":0,\"RunningNodeCount\":0,\"CurrentNodeCount\":0}', 'model': 'unet_xception', 'augment': 'True', 'resize': '256'}\n"
     ]
    },
    {
     "name": "stderr",
     "output_type": "stream",
     "text": [
      "Converting non-string tag to string: (augment: True)\n",
      "Converting non-string tag to string: (resize: 320)\n"
     ]
    },
    {
     "name": "stdout",
     "output_type": "stream",
     "text": [
      "Submitted Run : good_camera_xl16rpyn\n",
      "Tags : {'_aml_system_ComputeTargetStatus': '{\"AllocationState\":\"resizing\",\"PreparingNodeCount\":0,\"RunningNodeCount\":0,\"CurrentNodeCount\":0}', 'model': 'unet_xception', 'augment': 'True', 'resize': '320'}\n"
     ]
    },
    {
     "name": "stderr",
     "output_type": "stream",
     "text": [
      "Converting non-string tag to string: (augment: True)\n",
      "Converting non-string tag to string: (resize: 512)\n"
     ]
    },
    {
     "name": "stdout",
     "output_type": "stream",
     "text": [
      "Submitted Run : blue_beet_0z1grs3s\n",
      "Tags : {'_aml_system_ComputeTargetStatus': '{\"AllocationState\":\"resizing\",\"PreparingNodeCount\":0,\"RunningNodeCount\":0,\"CurrentNodeCount\":0}', 'model': 'unet_xception', 'augment': 'True', 'resize': '512'}\n"
     ]
    }
   ],
   "source": [
    "experiment_name = \"oc-p8-experiment-1\"\n",
    "model_choices = [\"unet_xception\"]  # [\"unet_xception\"]\n",
    "augment_choices = [False, True]  # [False, True]\n",
    "resize_choices = [\n",
    "    64,\n",
    "    80,\n",
    "    128,\n",
    "    160,\n",
    "    256,\n",
    "    320,\n",
    "    512,\n",
    "]  # [64, 80, 128, 160, 256, 320, 512, 640, 800, 1024]\n",
    "\n",
    "source_directory = \"./train\"\n",
    "train_script = \"train.py\"\n",
    "compute_target = \"ocp8-cluster-gpu\"\n",
    "\n",
    "\n",
    "# connect to your workspace\n",
    "ws = Workspace(\n",
    "    subscription_id=AZURE_SUBSCRIPTION_ID,\n",
    "    resource_group=AZURE_RESOURCE_GROUP,\n",
    "    workspace_name=AZURE_WORKSPACE_NAME,\n",
    ")\n",
    "\n",
    "\n",
    "try:\n",
    "    env = Environment.get(workspace=ws, name=experiment_name)\n",
    "except:\n",
    "    env = Environment(name=experiment_name)\n",
    "    env.docker.base_image = None\n",
    "    env.docker.base_dockerfile = \"./train/Dockerfile\"\n",
    "    env.python.user_managed_dependencies = True\n",
    "    env.register(workspace=ws)\n",
    "\n",
    "\n",
    "for model in model_choices:\n",
    "    for augment in augment_choices:\n",
    "        for resize in resize_choices:\n",
    "            run_config = ScriptRunConfig(\n",
    "                source_directory=source_directory,\n",
    "                script=train_script,\n",
    "                arguments=[\n",
    "                    \"--experiment\",\n",
    "                    experiment_name,\n",
    "                    \"--model\",\n",
    "                    model,\n",
    "                    \"--resize\",\n",
    "                    resize,\n",
    "                    \"--augment\" if augment else \"--no-augment\",\n",
    "                ],\n",
    "                compute_target=compute_target,\n",
    "                environment=env,\n",
    "                docker_runtime_config=DockerConfiguration(\n",
    "                    use_docker=True,\n",
    "                    arguments=[\n",
    "                        # see : https://docs.microsoft.com/en-us/python/api/azureml-core/azureml.data.filedataset?view=azure-ml-py#azureml-data-filedataset-mount\n",
    "                        \"--cap-add\",\n",
    "                        \"SYS_ADMIN\",\n",
    "                        \"--device\",\n",
    "                        \"/dev/fuse\",\n",
    "                    ],\n",
    "                ),\n",
    "            )\n",
    "\n",
    "            # create an experiment\n",
    "            exp = Experiment(workspace=ws, name=experiment_name)\n",
    "\n",
    "            # submit the run configuration to start the job\n",
    "            run = exp.submit(run_config)\n",
    "            run.tag(\"model\", model)\n",
    "            run.tag(\"augment\", augment)\n",
    "            run.tag(\"resize\", resize)\n",
    "\n",
    "            print(f\"Submitted Run : {run.display_name}\")\n",
    "            print(f\"Tags : {run.get_tags()}\")\n"
   ]
  }
 ],
 "metadata": {
  "interpreter": {
   "hash": "d8c2c830ee423e437a1692c62d7ec975894aa2a778a66c89e5cf73f15552e52b"
  },
  "kernelspec": {
   "display_name": "Python 3.9.7 ('env': venv)",
   "language": "python",
   "name": "python3"
  },
  "language_info": {
   "codemirror_mode": {
    "name": "ipython",
    "version": 3
   },
   "file_extension": ".py",
   "mimetype": "text/x-python",
   "name": "python",
   "nbconvert_exporter": "python",
   "pygments_lexer": "ipython3",
   "version": "3.9.7"
  },
  "orig_nbformat": 4
 },
 "nbformat": 4,
 "nbformat_minor": 2
}
