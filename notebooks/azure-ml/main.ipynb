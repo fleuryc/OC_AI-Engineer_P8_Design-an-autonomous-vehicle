{
 "cells": [
  {
   "cell_type": "code",
   "execution_count": 42,
   "metadata": {},
   "outputs": [],
   "source": [
    "import sys, os\n",
    "\n",
    "import azureml.core as aml\n",
    "import numpy as np\n",
    "from azureml.core import Environment, Experiment, ScriptRunConfig, Workspace\n",
    "from azureml.core.runconfig import DockerConfiguration\n",
    "\n",
    "\n",
    "from dotenv import load_dotenv\n",
    "\n",
    "load_dotenv()\n",
    "AZURE_SUBSCRIPTION_ID = os.getenv(\"AZURE_SUBSCRIPTION_ID\")\n",
    "AZURE_RESOURCE_GROUP = os.getenv(\"AZURE_RESOURCE_GROUP\")\n",
    "AZURE_WORKSPACE_NAME = os.getenv(\"AZURE_WORKSPACE_NAME\")\n"
   ]
  },
  {
   "cell_type": "code",
   "execution_count": 43,
   "metadata": {},
   "outputs": [
    {
     "name": "stderr",
     "output_type": "stream",
     "text": [
      "Converting non-string tag to string: (augment: False)\n",
      "Converting non-string tag to string: (resize: 64)\n"
     ]
    },
    {
     "name": "stdout",
     "output_type": "stream",
     "text": [
      "Submitted Run : sweet_chaconia_nkf9m2g8\n",
      "Tags : {'model': 'unet_xception', 'augment': 'False', 'resize': '64'}\n"
     ]
    }
   ],
   "source": [
    "experiment_name = \"oc-p8-experiment-2\"\n",
    "model_choices = [\"unet_xception\"]\n",
    "augment_choices = [False]\n",
    "resize_choices = [64]\n",
    "\n",
    "source_directory = \"./train\"\n",
    "train_script = \"train.py\"\n",
    "compute_target = \"ocp8-cluster-gpu\"\n",
    "\n",
    "\n",
    "# connect to your workspace\n",
    "ws = Workspace(\n",
    "    subscription_id=AZURE_SUBSCRIPTION_ID,\n",
    "    resource_group=AZURE_RESOURCE_GROUP,\n",
    "    workspace_name=AZURE_WORKSPACE_NAME,\n",
    ")\n",
    "\n",
    "\n",
    "# ! MUST use CuDNN v8.0 => Python 3.6-3.8 , TensorFlow 2.4\n",
    "# Error :\n",
    "#   Loaded runtime CuDNN library: 8.0.5 but source was compiled with: 8.1.0.  CuDNN library needs to have matching major version and equal or higher minor version. If using a binary install, upgrade your CuDNN library.  If building from sources, make sure the library loaded at runtime is compatible with the version specified during compile configuration.\n",
    "#   OP_REQUIRES failed at conv_ops.cc:1120 : UNKNOWN: Failed to get convolution algorithm. This is probably because cuDNN failed to initialize, so try looking to see if a warning log message was printed above.\n",
    "#   [stderr]Failed to get convolution algorithm. This is probably because cuDNN failed to initialize, so try looking to see if a warning log message was printed above. [Op:Conv2D]\n",
    "# Solution : https://www.tensorflow.org/install/source#gpu\n",
    "#   cuDNN 8.0 only compatible with :\n",
    "#   - TensorFlow : 2.4.0\n",
    "#   - Python : 3.6-3.8\n",
    "#   - CUDA : 11.0\n",
    "\n",
    "# AzureML-tensorflow-2.4-ubuntu18.04-py37-cuda11-gpu\n",
    "# AzureML-tensorflow-2.5-ubuntu20.04-py38-cuda11-gpu\n",
    "# AzureML-tensorflow-2.6-ubuntu20.04-py38-cuda11-gpu\n",
    "# AzureML-tensorflow-2.7-ubuntu20.04-py38-cuda11-gpu\n",
    "# env = Environment.get(\n",
    "#     workspace=ws,\n",
    "#     name=\"AzureML-tensorflow-2.4-ubuntu18.04-py37-cuda11-gpu\",\n",
    "# )\n",
    "\n",
    "\n",
    "# env = Environment.from_conda_specification(\n",
    "#     name=experiment_name, file_path=\"train/conda_dependencies.yml\"\n",
    "# )\n",
    "# env.docker.base_image = \"tensorflow/tensorflow:2.4.3-gpu\"\n",
    "# env.python.user_managed_dependencies = True\n",
    "\n",
    "\n",
    "try:\n",
    "    env = Environment.get(workspace=ws, name=experiment_name)\n",
    "except:\n",
    "    env = Environment(name=experiment_name)\n",
    "    env.docker.base_image = None\n",
    "    env.docker.base_dockerfile = \"./train/Dockerfile\"\n",
    "    env.python.user_managed_dependencies = True\n",
    "    env.register(workspace=ws)\n",
    "\n",
    "\n",
    "for model in model_choices:\n",
    "    for augment in augment_choices:\n",
    "        for resize in resize_choices:\n",
    "            run_config = ScriptRunConfig(\n",
    "                source_directory=source_directory,\n",
    "                script=train_script,\n",
    "                arguments=[\n",
    "                    \"--experiment\",\n",
    "                    experiment_name,\n",
    "                    \"--resize\",\n",
    "                    resize,\n",
    "                    \"--augment\",\n",
    "                    augment,\n",
    "                    \"--model\",\n",
    "                    model,\n",
    "                ],\n",
    "                compute_target=compute_target,\n",
    "                environment=env,\n",
    "                docker_runtime_config=DockerConfiguration(\n",
    "                    use_docker=True,\n",
    "                    # arguments=[\n",
    "                    #     \"--privileged\"  # required for mounting : https://docs.microsoft.com/en-us/python/api/azureml-core/azureml.data.file_dataset.filedataset?view=azure-ml-py#azureml-data-file-dataset-filedataset-mount\n",
    "                    # ],\n",
    "                ),\n",
    "            )\n",
    "\n",
    "            # create an experiment\n",
    "            exp = Experiment(workspace=ws, name=experiment_name)\n",
    "\n",
    "            # submit the run configuration to start the job\n",
    "            run = exp.submit(run_config)\n",
    "            run.tag(\"model\", model)\n",
    "            run.tag(\"augment\", augment)\n",
    "            run.tag(\"resize\", resize)\n",
    "\n",
    "            print(f\"Submitted Run : {run.display_name}\")\n",
    "            print(f\"Tags : {run.get_tags()}\")\n"
   ]
  }
 ],
 "metadata": {
  "interpreter": {
   "hash": "d8c2c830ee423e437a1692c62d7ec975894aa2a778a66c89e5cf73f15552e52b"
  },
  "kernelspec": {
   "display_name": "Python 3.9.7 ('env': venv)",
   "language": "python",
   "name": "python3"
  },
  "language_info": {
   "codemirror_mode": {
    "name": "ipython",
    "version": 3
   },
   "file_extension": ".py",
   "mimetype": "text/x-python",
   "name": "python",
   "nbconvert_exporter": "python",
   "pygments_lexer": "ipython3",
   "version": "3.9.7"
  },
  "orig_nbformat": 4
 },
 "nbformat": 4,
 "nbformat_minor": 2
}
