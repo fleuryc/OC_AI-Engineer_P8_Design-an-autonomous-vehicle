{
 "cells": [
  {
   "cell_type": "code",
   "execution_count": 1,
   "metadata": {},
   "outputs": [],
   "source": [
    "import os\n",
    "\n",
    "from azureml.core import Environment, Experiment, ScriptRunConfig, Workspace\n",
    "from azureml.core.runconfig import DockerConfiguration\n",
    "from dotenv import load_dotenv\n",
    "\n",
    "load_dotenv()\n",
    "AZURE_SUBSCRIPTION_ID = os.getenv(\"AZURE_SUBSCRIPTION_ID\")\n",
    "AZURE_RESOURCE_GROUP = os.getenv(\"AZURE_RESOURCE_GROUP\")\n",
    "AZURE_WORKSPACE_NAME = os.getenv(\"AZURE_WORKSPACE_NAME\")\n"
   ]
  },
  {
   "cell_type": "code",
   "execution_count": 2,
   "metadata": {},
   "outputs": [
    {
     "name": "stderr",
     "output_type": "stream",
     "text": [
      "Converting non-string tag to string: (augment: False)\n",
      "Converting non-string tag to string: (resize: 64)\n"
     ]
    },
    {
     "name": "stdout",
     "output_type": "stream",
     "text": [
      "Submitted Run : magenta_basil_w4s1h2kv\n",
      "Tags : {'_aml_system_ComputeTargetStatus': '{\"AllocationState\":\"steady\",\"PreparingNodeCount\":0,\"RunningNodeCount\":1,\"CurrentNodeCount\":1}', 'action': 'eval', 'model': 'unet_xception', 'augment': 'False', 'resize': '64'}\n"
     ]
    },
    {
     "name": "stderr",
     "output_type": "stream",
     "text": [
      "Converting non-string tag to string: (augment: True)\n",
      "Converting non-string tag to string: (resize: 64)\n"
     ]
    },
    {
     "name": "stdout",
     "output_type": "stream",
     "text": [
      "Submitted Run : magenta_tiger_ny9v9fh8\n",
      "Tags : {'_aml_system_ComputeTargetStatus': '{\"AllocationState\":\"steady\",\"PreparingNodeCount\":0,\"RunningNodeCount\":1,\"CurrentNodeCount\":1}', 'action': 'eval', 'model': 'unet_xception', 'augment': 'True', 'resize': '64'}\n"
     ]
    },
    {
     "name": "stderr",
     "output_type": "stream",
     "text": [
      "Converting non-string tag to string: (augment: False)\n",
      "Converting non-string tag to string: (resize: 64)\n"
     ]
    },
    {
     "name": "stdout",
     "output_type": "stream",
     "text": [
      "Submitted Run : upbeat_roti_gtbs2ch0\n",
      "Tags : {'_aml_system_ComputeTargetStatus': '{\"AllocationState\":\"steady\",\"PreparingNodeCount\":0,\"RunningNodeCount\":1,\"CurrentNodeCount\":1}', 'action': 'eval', 'model': 'deeplab_v3plus', 'augment': 'False', 'resize': '64'}\n"
     ]
    },
    {
     "name": "stderr",
     "output_type": "stream",
     "text": [
      "Converting non-string tag to string: (augment: True)\n",
      "Converting non-string tag to string: (resize: 64)\n"
     ]
    },
    {
     "name": "stdout",
     "output_type": "stream",
     "text": [
      "Submitted Run : ivory_pea_4d46l4h0\n",
      "Tags : {'_aml_system_ComputeTargetStatus': '{\"AllocationState\":\"steady\",\"PreparingNodeCount\":0,\"RunningNodeCount\":1,\"CurrentNodeCount\":1}', 'action': 'eval', 'model': 'deeplab_v3plus', 'augment': 'True', 'resize': '64'}\n"
     ]
    },
    {
     "name": "stderr",
     "output_type": "stream",
     "text": [
      "Converting non-string tag to string: (augment: False)\n",
      "Converting non-string tag to string: (resize: 64)\n"
     ]
    },
    {
     "name": "stdout",
     "output_type": "stream",
     "text": [
      "Submitted Run : heroic_zebra_p30bllqf\n",
      "Tags : {'_aml_system_ComputeTargetStatus': '{\"AllocationState\":\"steady\",\"PreparingNodeCount\":0,\"RunningNodeCount\":1,\"CurrentNodeCount\":1}', 'action': 'eval', 'model': 'fcn_8', 'augment': 'False', 'resize': '64'}\n"
     ]
    },
    {
     "name": "stderr",
     "output_type": "stream",
     "text": [
      "Converting non-string tag to string: (augment: True)\n",
      "Converting non-string tag to string: (resize: 64)\n"
     ]
    },
    {
     "name": "stdout",
     "output_type": "stream",
     "text": [
      "Submitted Run : funny_honey_l1mydwhq\n",
      "Tags : {'_aml_system_ComputeTargetStatus': '{\"AllocationState\":\"steady\",\"PreparingNodeCount\":0,\"RunningNodeCount\":1,\"CurrentNodeCount\":1}', 'action': 'eval', 'model': 'fcn_8', 'augment': 'True', 'resize': '64'}\n"
     ]
    },
    {
     "name": "stderr",
     "output_type": "stream",
     "text": [
      "Converting non-string tag to string: (augment: False)\n",
      "Converting non-string tag to string: (resize: 80)\n"
     ]
    },
    {
     "name": "stdout",
     "output_type": "stream",
     "text": [
      "Submitted Run : icy_leaf_l30d7hk0\n",
      "Tags : {'_aml_system_ComputeTargetStatus': '{\"AllocationState\":\"steady\",\"PreparingNodeCount\":0,\"RunningNodeCount\":1,\"CurrentNodeCount\":1}', 'action': 'eval', 'model': 'unet_xception', 'augment': 'False', 'resize': '80'}\n"
     ]
    },
    {
     "name": "stderr",
     "output_type": "stream",
     "text": [
      "Converting non-string tag to string: (augment: True)\n",
      "Converting non-string tag to string: (resize: 80)\n"
     ]
    },
    {
     "name": "stdout",
     "output_type": "stream",
     "text": [
      "Submitted Run : shy_square_xkt850z4\n",
      "Tags : {'_aml_system_ComputeTargetStatus': '{\"AllocationState\":\"steady\",\"PreparingNodeCount\":0,\"RunningNodeCount\":1,\"CurrentNodeCount\":1}', 'action': 'eval', 'model': 'unet_xception', 'augment': 'True', 'resize': '80'}\n"
     ]
    },
    {
     "name": "stderr",
     "output_type": "stream",
     "text": [
      "Converting non-string tag to string: (augment: False)\n",
      "Converting non-string tag to string: (resize: 80)\n"
     ]
    },
    {
     "name": "stdout",
     "output_type": "stream",
     "text": [
      "Submitted Run : willing_rain_lfqqqj8f\n",
      "Tags : {'_aml_system_ComputeTargetStatus': '{\"AllocationState\":\"steady\",\"PreparingNodeCount\":0,\"RunningNodeCount\":1,\"CurrentNodeCount\":1}', 'action': 'eval', 'model': 'deeplab_v3plus', 'augment': 'False', 'resize': '80'}\n"
     ]
    },
    {
     "name": "stderr",
     "output_type": "stream",
     "text": [
      "Converting non-string tag to string: (augment: True)\n",
      "Converting non-string tag to string: (resize: 80)\n"
     ]
    },
    {
     "name": "stdout",
     "output_type": "stream",
     "text": [
      "Submitted Run : heroic_key_9qy8rnkq\n",
      "Tags : {'_aml_system_ComputeTargetStatus': '{\"AllocationState\":\"steady\",\"PreparingNodeCount\":0,\"RunningNodeCount\":1,\"CurrentNodeCount\":1}', 'action': 'eval', 'model': 'deeplab_v3plus', 'augment': 'True', 'resize': '80'}\n"
     ]
    },
    {
     "name": "stderr",
     "output_type": "stream",
     "text": [
      "Converting non-string tag to string: (augment: False)\n",
      "Converting non-string tag to string: (resize: 80)\n"
     ]
    },
    {
     "name": "stdout",
     "output_type": "stream",
     "text": [
      "Submitted Run : magenta_map_ybdnc687\n",
      "Tags : {'_aml_system_ComputeTargetStatus': '{\"AllocationState\":\"steady\",\"PreparingNodeCount\":0,\"RunningNodeCount\":1,\"CurrentNodeCount\":1}', 'action': 'eval', 'model': 'fcn_8', 'augment': 'False', 'resize': '80'}\n"
     ]
    },
    {
     "name": "stderr",
     "output_type": "stream",
     "text": [
      "Converting non-string tag to string: (augment: True)\n",
      "Converting non-string tag to string: (resize: 80)\n"
     ]
    },
    {
     "name": "stdout",
     "output_type": "stream",
     "text": [
      "Submitted Run : serene_cherry_tr7gbggf\n",
      "Tags : {'_aml_system_ComputeTargetStatus': '{\"AllocationState\":\"steady\",\"PreparingNodeCount\":0,\"RunningNodeCount\":1,\"CurrentNodeCount\":1}', 'action': 'eval', 'model': 'fcn_8', 'augment': 'True', 'resize': '80'}\n"
     ]
    },
    {
     "name": "stderr",
     "output_type": "stream",
     "text": [
      "Converting non-string tag to string: (augment: False)\n",
      "Converting non-string tag to string: (resize: 128)\n"
     ]
    },
    {
     "name": "stdout",
     "output_type": "stream",
     "text": [
      "Submitted Run : neat_longan_wx0dbvh8\n",
      "Tags : {'_aml_system_ComputeTargetStatus': '{\"AllocationState\":\"steady\",\"PreparingNodeCount\":0,\"RunningNodeCount\":1,\"CurrentNodeCount\":1}', 'action': 'eval', 'model': 'unet_xception', 'augment': 'False', 'resize': '128'}\n"
     ]
    },
    {
     "name": "stderr",
     "output_type": "stream",
     "text": [
      "Converting non-string tag to string: (augment: True)\n",
      "Converting non-string tag to string: (resize: 128)\n"
     ]
    },
    {
     "name": "stdout",
     "output_type": "stream",
     "text": [
      "Submitted Run : mango_monkey_4j570bgf\n",
      "Tags : {'_aml_system_ComputeTargetStatus': '{\"AllocationState\":\"steady\",\"PreparingNodeCount\":0,\"RunningNodeCount\":1,\"CurrentNodeCount\":1}', 'action': 'eval', 'model': 'unet_xception', 'augment': 'True', 'resize': '128'}\n"
     ]
    },
    {
     "name": "stderr",
     "output_type": "stream",
     "text": [
      "Converting non-string tag to string: (augment: False)\n",
      "Converting non-string tag to string: (resize: 128)\n"
     ]
    },
    {
     "name": "stdout",
     "output_type": "stream",
     "text": [
      "Submitted Run : patient_cloud_xp51jy7n\n",
      "Tags : {'_aml_system_ComputeTargetStatus': '{\"AllocationState\":\"steady\",\"PreparingNodeCount\":0,\"RunningNodeCount\":1,\"CurrentNodeCount\":1}', 'action': 'eval', 'model': 'deeplab_v3plus', 'augment': 'False', 'resize': '128'}\n"
     ]
    },
    {
     "name": "stderr",
     "output_type": "stream",
     "text": [
      "Converting non-string tag to string: (augment: True)\n",
      "Converting non-string tag to string: (resize: 128)\n"
     ]
    },
    {
     "name": "stdout",
     "output_type": "stream",
     "text": [
      "Submitted Run : upbeat_kale_cycr1hzt\n",
      "Tags : {'_aml_system_ComputeTargetStatus': '{\"AllocationState\":\"steady\",\"PreparingNodeCount\":0,\"RunningNodeCount\":1,\"CurrentNodeCount\":1}', 'action': 'eval', 'model': 'deeplab_v3plus', 'augment': 'True', 'resize': '128'}\n"
     ]
    },
    {
     "name": "stderr",
     "output_type": "stream",
     "text": [
      "Converting non-string tag to string: (augment: False)\n",
      "Converting non-string tag to string: (resize: 128)\n"
     ]
    },
    {
     "name": "stdout",
     "output_type": "stream",
     "text": [
      "Submitted Run : purple_juice_bl2l7qkv\n",
      "Tags : {'_aml_system_ComputeTargetStatus': '{\"AllocationState\":\"steady\",\"PreparingNodeCount\":0,\"RunningNodeCount\":1,\"CurrentNodeCount\":1}', 'action': 'eval', 'model': 'fcn_8', 'augment': 'False', 'resize': '128'}\n"
     ]
    },
    {
     "name": "stderr",
     "output_type": "stream",
     "text": [
      "Converting non-string tag to string: (augment: True)\n",
      "Converting non-string tag to string: (resize: 128)\n"
     ]
    },
    {
     "name": "stdout",
     "output_type": "stream",
     "text": [
      "Submitted Run : clever_spade_80h1whp6\n",
      "Tags : {'_aml_system_ComputeTargetStatus': '{\"AllocationState\":\"steady\",\"PreparingNodeCount\":0,\"RunningNodeCount\":1,\"CurrentNodeCount\":1}', 'action': 'eval', 'model': 'fcn_8', 'augment': 'True', 'resize': '128'}\n"
     ]
    },
    {
     "name": "stderr",
     "output_type": "stream",
     "text": [
      "Converting non-string tag to string: (augment: False)\n",
      "Converting non-string tag to string: (resize: 160)\n"
     ]
    },
    {
     "name": "stdout",
     "output_type": "stream",
     "text": [
      "Submitted Run : maroon_nail_jqs6fkyf\n",
      "Tags : {'_aml_system_ComputeTargetStatus': '{\"AllocationState\":\"steady\",\"PreparingNodeCount\":0,\"RunningNodeCount\":1,\"CurrentNodeCount\":1}', 'action': 'eval', 'model': 'unet_xception', 'augment': 'False', 'resize': '160'}\n"
     ]
    },
    {
     "name": "stderr",
     "output_type": "stream",
     "text": [
      "Converting non-string tag to string: (augment: True)\n",
      "Converting non-string tag to string: (resize: 160)\n"
     ]
    },
    {
     "name": "stdout",
     "output_type": "stream",
     "text": [
      "Submitted Run : silver_cake_ggtzfq4x\n",
      "Tags : {'_aml_system_ComputeTargetStatus': '{\"AllocationState\":\"steady\",\"PreparingNodeCount\":0,\"RunningNodeCount\":1,\"CurrentNodeCount\":1}', 'action': 'eval', 'model': 'unet_xception', 'augment': 'True', 'resize': '160'}\n"
     ]
    },
    {
     "name": "stderr",
     "output_type": "stream",
     "text": [
      "Converting non-string tag to string: (augment: False)\n",
      "Converting non-string tag to string: (resize: 160)\n"
     ]
    },
    {
     "name": "stdout",
     "output_type": "stream",
     "text": [
      "Submitted Run : helpful_caravan_8tj3qs8n\n",
      "Tags : {'_aml_system_ComputeTargetStatus': '{\"AllocationState\":\"steady\",\"PreparingNodeCount\":0,\"RunningNodeCount\":1,\"CurrentNodeCount\":1}', 'action': 'eval', 'model': 'deeplab_v3plus', 'augment': 'False', 'resize': '160'}\n"
     ]
    },
    {
     "name": "stderr",
     "output_type": "stream",
     "text": [
      "Converting non-string tag to string: (augment: True)\n",
      "Converting non-string tag to string: (resize: 160)\n"
     ]
    },
    {
     "name": "stdout",
     "output_type": "stream",
     "text": [
      "Submitted Run : musing_calypso_wqj3km42\n",
      "Tags : {'_aml_system_ComputeTargetStatus': '{\"AllocationState\":\"steady\",\"PreparingNodeCount\":0,\"RunningNodeCount\":1,\"CurrentNodeCount\":1}', 'action': 'eval', 'model': 'deeplab_v3plus', 'augment': 'True', 'resize': '160'}\n"
     ]
    },
    {
     "name": "stderr",
     "output_type": "stream",
     "text": [
      "Converting non-string tag to string: (augment: False)\n",
      "Converting non-string tag to string: (resize: 160)\n"
     ]
    },
    {
     "name": "stdout",
     "output_type": "stream",
     "text": [
      "Submitted Run : magenta_yam_42tgx7xb\n",
      "Tags : {'_aml_system_ComputeTargetStatus': '{\"AllocationState\":\"steady\",\"PreparingNodeCount\":0,\"RunningNodeCount\":1,\"CurrentNodeCount\":1}', 'action': 'eval', 'model': 'fcn_8', 'augment': 'False', 'resize': '160'}\n"
     ]
    },
    {
     "name": "stderr",
     "output_type": "stream",
     "text": [
      "Converting non-string tag to string: (augment: True)\n",
      "Converting non-string tag to string: (resize: 160)\n"
     ]
    },
    {
     "name": "stdout",
     "output_type": "stream",
     "text": [
      "Submitted Run : calm_arm_5nw45qp0\n",
      "Tags : {'_aml_system_ComputeTargetStatus': '{\"AllocationState\":\"steady\",\"PreparingNodeCount\":0,\"RunningNodeCount\":1,\"CurrentNodeCount\":1}', 'action': 'eval', 'model': 'fcn_8', 'augment': 'True', 'resize': '160'}\n"
     ]
    },
    {
     "name": "stderr",
     "output_type": "stream",
     "text": [
      "Converting non-string tag to string: (augment: False)\n",
      "Converting non-string tag to string: (resize: 256)\n"
     ]
    },
    {
     "name": "stdout",
     "output_type": "stream",
     "text": [
      "Submitted Run : sleepy_jewel_chfzsrr5\n",
      "Tags : {'_aml_system_ComputeTargetStatus': '{\"AllocationState\":\"steady\",\"PreparingNodeCount\":0,\"RunningNodeCount\":1,\"CurrentNodeCount\":1}', 'action': 'eval', 'model': 'unet_xception', 'augment': 'False', 'resize': '256'}\n"
     ]
    },
    {
     "name": "stderr",
     "output_type": "stream",
     "text": [
      "Converting non-string tag to string: (augment: True)\n",
      "Converting non-string tag to string: (resize: 256)\n"
     ]
    },
    {
     "name": "stdout",
     "output_type": "stream",
     "text": [
      "Submitted Run : stoic_spinach_smztqgkg\n",
      "Tags : {'_aml_system_ComputeTargetStatus': '{\"AllocationState\":\"steady\",\"PreparingNodeCount\":0,\"RunningNodeCount\":1,\"CurrentNodeCount\":1}', 'action': 'eval', 'model': 'unet_xception', 'augment': 'True', 'resize': '256'}\n"
     ]
    },
    {
     "name": "stderr",
     "output_type": "stream",
     "text": [
      "Converting non-string tag to string: (augment: False)\n",
      "Converting non-string tag to string: (resize: 256)\n"
     ]
    },
    {
     "name": "stdout",
     "output_type": "stream",
     "text": [
      "Submitted Run : plum_endive_zfngx0rr\n",
      "Tags : {'_aml_system_ComputeTargetStatus': '{\"AllocationState\":\"steady\",\"PreparingNodeCount\":0,\"RunningNodeCount\":1,\"CurrentNodeCount\":1}', 'action': 'eval', 'model': 'deeplab_v3plus', 'augment': 'False', 'resize': '256'}\n"
     ]
    },
    {
     "name": "stderr",
     "output_type": "stream",
     "text": [
      "Converting non-string tag to string: (augment: True)\n",
      "Converting non-string tag to string: (resize: 256)\n"
     ]
    },
    {
     "name": "stdout",
     "output_type": "stream",
     "text": [
      "Submitted Run : strong_vase_rwrkmcpq\n",
      "Tags : {'_aml_system_ComputeTargetStatus': '{\"AllocationState\":\"steady\",\"PreparingNodeCount\":0,\"RunningNodeCount\":1,\"CurrentNodeCount\":1}', 'action': 'eval', 'model': 'deeplab_v3plus', 'augment': 'True', 'resize': '256'}\n"
     ]
    },
    {
     "name": "stderr",
     "output_type": "stream",
     "text": [
      "Converting non-string tag to string: (augment: False)\n",
      "Converting non-string tag to string: (resize: 256)\n"
     ]
    },
    {
     "name": "stdout",
     "output_type": "stream",
     "text": [
      "Submitted Run : tender_boot_94jzpf43\n",
      "Tags : {'_aml_system_ComputeTargetStatus': '{\"AllocationState\":\"steady\",\"PreparingNodeCount\":0,\"RunningNodeCount\":1,\"CurrentNodeCount\":1}', 'action': 'eval', 'model': 'fcn_8', 'augment': 'False', 'resize': '256'}\n"
     ]
    },
    {
     "name": "stderr",
     "output_type": "stream",
     "text": [
      "Converting non-string tag to string: (augment: True)\n",
      "Converting non-string tag to string: (resize: 256)\n"
     ]
    },
    {
     "name": "stdout",
     "output_type": "stream",
     "text": [
      "Submitted Run : ivory_heart_ptr4x8kf\n",
      "Tags : {'_aml_system_ComputeTargetStatus': '{\"AllocationState\":\"steady\",\"PreparingNodeCount\":0,\"RunningNodeCount\":1,\"CurrentNodeCount\":1}', 'action': 'eval', 'model': 'fcn_8', 'augment': 'True', 'resize': '256'}\n"
     ]
    },
    {
     "name": "stderr",
     "output_type": "stream",
     "text": [
      "Converting non-string tag to string: (augment: False)\n",
      "Converting non-string tag to string: (resize: 320)\n"
     ]
    },
    {
     "name": "stdout",
     "output_type": "stream",
     "text": [
      "Submitted Run : musing_root_5y6s5vd1\n",
      "Tags : {'_aml_system_ComputeTargetStatus': '{\"AllocationState\":\"steady\",\"PreparingNodeCount\":0,\"RunningNodeCount\":1,\"CurrentNodeCount\":1}', 'action': 'eval', 'model': 'unet_xception', 'augment': 'False', 'resize': '320'}\n"
     ]
    },
    {
     "name": "stderr",
     "output_type": "stream",
     "text": [
      "Converting non-string tag to string: (augment: True)\n",
      "Converting non-string tag to string: (resize: 320)\n"
     ]
    },
    {
     "name": "stdout",
     "output_type": "stream",
     "text": [
      "Submitted Run : helpful_snake_mksthmlc\n",
      "Tags : {'_aml_system_ComputeTargetStatus': '{\"AllocationState\":\"steady\",\"PreparingNodeCount\":0,\"RunningNodeCount\":1,\"CurrentNodeCount\":1}', 'action': 'eval', 'model': 'unet_xception', 'augment': 'True', 'resize': '320'}\n"
     ]
    },
    {
     "name": "stderr",
     "output_type": "stream",
     "text": [
      "Converting non-string tag to string: (augment: False)\n",
      "Converting non-string tag to string: (resize: 320)\n"
     ]
    },
    {
     "name": "stdout",
     "output_type": "stream",
     "text": [
      "Submitted Run : gifted_jewel_2z3793ty\n",
      "Tags : {'_aml_system_ComputeTargetStatus': '{\"AllocationState\":\"steady\",\"PreparingNodeCount\":0,\"RunningNodeCount\":1,\"CurrentNodeCount\":1}', 'action': 'eval', 'model': 'deeplab_v3plus', 'augment': 'False', 'resize': '320'}\n"
     ]
    },
    {
     "name": "stderr",
     "output_type": "stream",
     "text": [
      "Converting non-string tag to string: (augment: True)\n",
      "Converting non-string tag to string: (resize: 320)\n"
     ]
    },
    {
     "name": "stdout",
     "output_type": "stream",
     "text": [
      "Submitted Run : hungry_ship_7b5s4d0v\n",
      "Tags : {'_aml_system_ComputeTargetStatus': '{\"AllocationState\":\"steady\",\"PreparingNodeCount\":0,\"RunningNodeCount\":1,\"CurrentNodeCount\":1}', 'action': 'eval', 'model': 'deeplab_v3plus', 'augment': 'True', 'resize': '320'}\n"
     ]
    },
    {
     "name": "stderr",
     "output_type": "stream",
     "text": [
      "Converting non-string tag to string: (augment: False)\n",
      "Converting non-string tag to string: (resize: 320)\n"
     ]
    },
    {
     "name": "stdout",
     "output_type": "stream",
     "text": [
      "Submitted Run : red_boat_5mh2603y\n",
      "Tags : {'_aml_system_ComputeTargetStatus': '{\"AllocationState\":\"steady\",\"PreparingNodeCount\":0,\"RunningNodeCount\":1,\"CurrentNodeCount\":1}', 'action': 'eval', 'model': 'fcn_8', 'augment': 'False', 'resize': '320'}\n"
     ]
    },
    {
     "name": "stderr",
     "output_type": "stream",
     "text": [
      "Converting non-string tag to string: (augment: True)\n",
      "Converting non-string tag to string: (resize: 320)\n"
     ]
    },
    {
     "name": "stdout",
     "output_type": "stream",
     "text": [
      "Submitted Run : busy_screw_gnb4hcgz\n",
      "Tags : {'_aml_system_ComputeTargetStatus': '{\"AllocationState\":\"steady\",\"PreparingNodeCount\":0,\"RunningNodeCount\":1,\"CurrentNodeCount\":1}', 'action': 'eval', 'model': 'fcn_8', 'augment': 'True', 'resize': '320'}\n"
     ]
    },
    {
     "name": "stderr",
     "output_type": "stream",
     "text": [
      "Converting non-string tag to string: (augment: False)\n",
      "Converting non-string tag to string: (resize: 512)\n"
     ]
    },
    {
     "name": "stdout",
     "output_type": "stream",
     "text": [
      "Submitted Run : tender_pen_qpxvw53m\n",
      "Tags : {'_aml_system_ComputeTargetStatus': '{\"AllocationState\":\"steady\",\"PreparingNodeCount\":0,\"RunningNodeCount\":1,\"CurrentNodeCount\":1}', 'action': 'eval', 'model': 'unet_xception', 'augment': 'False', 'resize': '512'}\n"
     ]
    },
    {
     "name": "stderr",
     "output_type": "stream",
     "text": [
      "Converting non-string tag to string: (augment: True)\n",
      "Converting non-string tag to string: (resize: 512)\n"
     ]
    },
    {
     "name": "stdout",
     "output_type": "stream",
     "text": [
      "Submitted Run : gentle_sun_b2k9c5b5\n",
      "Tags : {'_aml_system_ComputeTargetStatus': '{\"AllocationState\":\"steady\",\"PreparingNodeCount\":0,\"RunningNodeCount\":1,\"CurrentNodeCount\":1}', 'action': 'eval', 'model': 'unet_xception', 'augment': 'True', 'resize': '512'}\n"
     ]
    },
    {
     "name": "stderr",
     "output_type": "stream",
     "text": [
      "Converting non-string tag to string: (augment: False)\n",
      "Converting non-string tag to string: (resize: 512)\n"
     ]
    },
    {
     "name": "stdout",
     "output_type": "stream",
     "text": [
      "Submitted Run : shy_net_gr4p779t\n",
      "Tags : {'_aml_system_ComputeTargetStatus': '{\"AllocationState\":\"steady\",\"PreparingNodeCount\":0,\"RunningNodeCount\":1,\"CurrentNodeCount\":1}', 'action': 'eval', 'model': 'deeplab_v3plus', 'augment': 'False', 'resize': '512'}\n"
     ]
    },
    {
     "name": "stderr",
     "output_type": "stream",
     "text": [
      "Converting non-string tag to string: (augment: True)\n",
      "Converting non-string tag to string: (resize: 512)\n"
     ]
    },
    {
     "name": "stdout",
     "output_type": "stream",
     "text": [
      "Submitted Run : sad_jewel_hcy2h9rw\n",
      "Tags : {'_aml_system_ComputeTargetStatus': '{\"AllocationState\":\"steady\",\"PreparingNodeCount\":0,\"RunningNodeCount\":1,\"CurrentNodeCount\":1}', 'action': 'eval', 'model': 'deeplab_v3plus', 'augment': 'True', 'resize': '512'}\n"
     ]
    },
    {
     "name": "stderr",
     "output_type": "stream",
     "text": [
      "Converting non-string tag to string: (augment: False)\n",
      "Converting non-string tag to string: (resize: 512)\n"
     ]
    },
    {
     "name": "stdout",
     "output_type": "stream",
     "text": [
      "Submitted Run : bold_basin_246jcdkz\n",
      "Tags : {'_aml_system_ComputeTargetStatus': '{\"AllocationState\":\"steady\",\"PreparingNodeCount\":0,\"RunningNodeCount\":1,\"CurrentNodeCount\":1}', 'action': 'eval', 'model': 'fcn_8', 'augment': 'False', 'resize': '512'}\n"
     ]
    },
    {
     "name": "stderr",
     "output_type": "stream",
     "text": [
      "Converting non-string tag to string: (augment: True)\n",
      "Converting non-string tag to string: (resize: 512)\n"
     ]
    },
    {
     "name": "stdout",
     "output_type": "stream",
     "text": [
      "Submitted Run : lime_kitten_pl8lz0q5\n",
      "Tags : {'_aml_system_ComputeTargetStatus': '{\"AllocationState\":\"steady\",\"PreparingNodeCount\":0,\"RunningNodeCount\":1,\"CurrentNodeCount\":1}', 'action': 'eval', 'model': 'fcn_8', 'augment': 'True', 'resize': '512'}\n"
     ]
    },
    {
     "name": "stderr",
     "output_type": "stream",
     "text": [
      "Converting non-string tag to string: (augment: False)\n",
      "Converting non-string tag to string: (resize: 640)\n"
     ]
    },
    {
     "name": "stdout",
     "output_type": "stream",
     "text": [
      "Submitted Run : serene_cabbage_bq35gnfy\n",
      "Tags : {'_aml_system_ComputeTargetStatus': '{\"AllocationState\":\"steady\",\"PreparingNodeCount\":0,\"RunningNodeCount\":1,\"CurrentNodeCount\":1}', 'action': 'eval', 'model': 'unet_xception', 'augment': 'False', 'resize': '640'}\n"
     ]
    },
    {
     "name": "stderr",
     "output_type": "stream",
     "text": [
      "Converting non-string tag to string: (augment: True)\n",
      "Converting non-string tag to string: (resize: 640)\n"
     ]
    },
    {
     "name": "stdout",
     "output_type": "stream",
     "text": [
      "Submitted Run : green_pummelo_25nyvbyg\n",
      "Tags : {'_aml_system_ComputeTargetStatus': '{\"AllocationState\":\"steady\",\"PreparingNodeCount\":0,\"RunningNodeCount\":1,\"CurrentNodeCount\":1}', 'action': 'eval', 'model': 'unet_xception', 'augment': 'True', 'resize': '640'}\n"
     ]
    },
    {
     "name": "stderr",
     "output_type": "stream",
     "text": [
      "Converting non-string tag to string: (augment: False)\n",
      "Converting non-string tag to string: (resize: 640)\n"
     ]
    },
    {
     "name": "stdout",
     "output_type": "stream",
     "text": [
      "Submitted Run : lime_button_6h7rprvj\n",
      "Tags : {'_aml_system_ComputeTargetStatus': '{\"AllocationState\":\"steady\",\"PreparingNodeCount\":0,\"RunningNodeCount\":1,\"CurrentNodeCount\":1}', 'action': 'eval', 'model': 'deeplab_v3plus', 'augment': 'False', 'resize': '640'}\n"
     ]
    },
    {
     "name": "stderr",
     "output_type": "stream",
     "text": [
      "Converting non-string tag to string: (augment: True)\n",
      "Converting non-string tag to string: (resize: 640)\n"
     ]
    },
    {
     "name": "stdout",
     "output_type": "stream",
     "text": [
      "Submitted Run : placid_sheep_3x8fkdv2\n",
      "Tags : {'_aml_system_ComputeTargetStatus': '{\"AllocationState\":\"steady\",\"PreparingNodeCount\":0,\"RunningNodeCount\":1,\"CurrentNodeCount\":1}', 'action': 'eval', 'model': 'deeplab_v3plus', 'augment': 'True', 'resize': '640'}\n"
     ]
    },
    {
     "name": "stderr",
     "output_type": "stream",
     "text": [
      "Converting non-string tag to string: (augment: False)\n",
      "Converting non-string tag to string: (resize: 640)\n"
     ]
    },
    {
     "name": "stdout",
     "output_type": "stream",
     "text": [
      "Submitted Run : yellow_night_1ygk9lfz\n",
      "Tags : {'_aml_system_ComputeTargetStatus': '{\"AllocationState\":\"steady\",\"PreparingNodeCount\":0,\"RunningNodeCount\":1,\"CurrentNodeCount\":1}', 'action': 'eval', 'model': 'fcn_8', 'augment': 'False', 'resize': '640'}\n"
     ]
    },
    {
     "name": "stderr",
     "output_type": "stream",
     "text": [
      "Converting non-string tag to string: (augment: True)\n",
      "Converting non-string tag to string: (resize: 640)\n"
     ]
    },
    {
     "name": "stdout",
     "output_type": "stream",
     "text": [
      "Submitted Run : upbeat_vase_bxzqfpch\n",
      "Tags : {'_aml_system_ComputeTargetStatus': '{\"AllocationState\":\"steady\",\"PreparingNodeCount\":0,\"RunningNodeCount\":1,\"CurrentNodeCount\":1}', 'action': 'eval', 'model': 'fcn_8', 'augment': 'True', 'resize': '640'}\n"
     ]
    }
   ],
   "source": [
    "experiment_name = \"oc-p8-experiment-1\"\n",
    "model_choices = [\n",
    "    \"unet_xception\",\n",
    "    \"deeplab_v3plus\",\n",
    "    \"fcn_8\",\n",
    "]\n",
    "augment_choices = [\n",
    "    False,\n",
    "    True,\n",
    "]\n",
    "resize_choices = [\n",
    "    64,\n",
    "    80,\n",
    "    128,\n",
    "    160,\n",
    "    256,\n",
    "    320,\n",
    "    512,\n",
    "    640,\n",
    "]\n",
    "batch_size_per_resize = {\n",
    "    64: 128,\n",
    "    80: 128,\n",
    "    128: 64,\n",
    "    160: 64,\n",
    "    256: 32,\n",
    "    320: 32,\n",
    "    512: 16,\n",
    "    640: 8,\n",
    "    800: 4,\n",
    "    1024: 2,\n",
    "}\n",
    "\n",
    "source_directory = \"./azureml\"\n",
    "compute_target = \"ocp8-cluster-gpu\"\n",
    "\n",
    "\n",
    "# connect to your workspace\n",
    "ws = Workspace(\n",
    "    subscription_id=AZURE_SUBSCRIPTION_ID,\n",
    "    resource_group=AZURE_RESOURCE_GROUP,\n",
    "    workspace_name=AZURE_WORKSPACE_NAME,\n",
    ")\n",
    "\n",
    "\n",
    "try:\n",
    "    env = Environment.get(workspace=ws, name=experiment_name)\n",
    "except:\n",
    "    env = Environment(name=experiment_name)\n",
    "    env.docker.base_image = None\n",
    "    env.docker.base_dockerfile = source_directory + \"/Dockerfile\"\n",
    "    env.python.user_managed_dependencies = True\n",
    "    env.register(workspace=ws)\n",
    "\n",
    "\n",
    "for resize in resize_choices:\n",
    "    for model in model_choices:\n",
    "        for augment in augment_choices:\n",
    "            batch_size = batch_size_per_resize[resize]\n",
    "            run_config = ScriptRunConfig(\n",
    "                source_directory=source_directory,\n",
    "                script=\"eval.py\",\n",
    "                arguments=[\n",
    "                    \"--experiment\",\n",
    "                    experiment_name,\n",
    "                    \"--model\",\n",
    "                    model,\n",
    "                    \"--resize\",\n",
    "                    resize,\n",
    "                    \"--batch\",\n",
    "                    batch_size,\n",
    "                    \"--augment\" if augment else \"--no-augment\",\n",
    "                ],\n",
    "                compute_target=compute_target,\n",
    "                environment=env,\n",
    "                docker_runtime_config=DockerConfiguration(\n",
    "                    use_docker=True,\n",
    "                    arguments=[\n",
    "                        # see : https://docs.microsoft.com/en-us/python/api/azureml-core/azureml.data.filedataset?view=azure-ml-py#azureml-data-filedataset-mount\n",
    "                        \"--cap-add\",\n",
    "                        \"SYS_ADMIN\",\n",
    "                        \"--device\",\n",
    "                        \"/dev/fuse\",\n",
    "                    ],\n",
    "                ),\n",
    "            )\n",
    "\n",
    "            # create an experiment\n",
    "            exp = Experiment(workspace=ws, name=experiment_name)\n",
    "\n",
    "            # submit the run configuration to start the job\n",
    "            run = exp.submit(run_config)\n",
    "            run.tag(\"action\", \"eval\")\n",
    "            run.tag(\"model\", model)\n",
    "            run.tag(\"augment\", augment)\n",
    "            run.tag(\"resize\", resize)\n",
    "\n",
    "            print(f\"Submitted Run : {run.display_name}\")\n",
    "            print(f\"Tags : {run.get_tags()}\")\n"
   ]
  }
 ],
 "metadata": {
  "interpreter": {
   "hash": "d8c2c830ee423e437a1692c62d7ec975894aa2a778a66c89e5cf73f15552e52b"
  },
  "kernelspec": {
   "display_name": "Python 3.9.7 ('env': venv)",
   "language": "python",
   "name": "python3"
  },
  "language_info": {
   "codemirror_mode": {
    "name": "ipython",
    "version": 3
   },
   "file_extension": ".py",
   "mimetype": "text/x-python",
   "name": "python",
   "nbconvert_exporter": "python",
   "pygments_lexer": "ipython3",
   "version": "3.9.7"
  },
  "orig_nbformat": 4
 },
 "nbformat": 4,
 "nbformat_minor": 2
}
