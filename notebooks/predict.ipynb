{
 "cells": [
  {
   "cell_type": "code",
   "execution_count": 17,
   "metadata": {},
   "outputs": [],
   "source": [
    "import os\n",
    "\n",
    "from azureml.core import Environment, Model, Workspace\n",
    "from azureml.core.model import InferenceConfig\n",
    "from azureml.core.runconfig import DockerConfiguration\n",
    "from azureml.core.webservice import AciWebservice\n",
    "from azureml.core.compute import ComputeTarget\n",
    "\n",
    "from dotenv import load_dotenv\n",
    "\n",
    "load_dotenv()\n",
    "AZURE_SUBSCRIPTION_ID = os.getenv(\"AZURE_SUBSCRIPTION_ID\")\n",
    "AZURE_RESOURCE_GROUP = os.getenv(\"AZURE_RESOURCE_GROUP\")\n",
    "AZURE_WORKSPACE_NAME = os.getenv(\"AZURE_WORKSPACE_NAME\")\n"
   ]
  },
  {
   "cell_type": "code",
   "execution_count": 18,
   "metadata": {},
   "outputs": [
    {
     "name": "stdout",
     "output_type": "stream",
     "text": [
      "Tips: You can try get_logs(): https://aka.ms/debugimage#dockerlog or local deployment: https://aka.ms/debugimage#debug-locally to debug if deployment takes longer than 10 minutes.\n",
      "Running\n",
      "2022-03-04 11:57:48+01:00 Creating Container Registry if not exists.\n",
      "2022-03-04 11:57:50+01:00 Use the existing image.\n",
      "2022-03-04 11:57:50+01:00 Generating deployment configuration.\n",
      "2022-03-04 11:57:53+01:00 Submitting deployment to compute.\n",
      "2022-03-04 11:57:58+01:00 Checking the status of deployment deeplab-v3plus-128-augment..\n",
      "2022-03-04 11:59:52+01:00 Checking the status of inference endpoint deeplab-v3plus-128-augment.\n",
      "Succeeded\n",
      "ACI service creation operation finished, operation \"Succeeded\"\n"
     ]
    }
   ],
   "source": [
    "experiment_name = \"oc-p8-experiment-1\"\n",
    "model_name = \"deeplab_v3plus_128_augment\"\n",
    "\n",
    "# connect to your workspace\n",
    "ws = Workspace(\n",
    "    subscription_id=AZURE_SUBSCRIPTION_ID,\n",
    "    resource_group=AZURE_RESOURCE_GROUP,\n",
    "    workspace_name=AZURE_WORKSPACE_NAME,\n",
    ")\n",
    "\n",
    "\n",
    "model = Model(ws, model_name)\n",
    "\n",
    "env_name = experiment_name + \"-predict\"\n",
    "try:\n",
    "    env = Environment.get(workspace=ws, name=env_name)\n",
    "except:\n",
    "    env = Environment.from_conda_specification(\n",
    "        name=env_name, file_path=\"predict/conda_dependencies.yml\"\n",
    "    )\n",
    "    env.register(workspace=ws)\n",
    "\n",
    "aci_config = AciWebservice.deploy_configuration(\n",
    "    cpu_cores=2,\n",
    "    memory_gb=4,\n",
    ")\n",
    "\n",
    "inference_config = InferenceConfig(\n",
    "    entry_script=\"predict/predict.py\", environment=env\n",
    ")\n",
    "\n",
    "service = Model.deploy(\n",
    "    workspace=ws,\n",
    "    name=model_name.replace('_', '-'),\n",
    "    models=[model],\n",
    "    inference_config=inference_config,\n",
    "    deployment_config=aci_config,\n",
    "    overwrite=True,\n",
    ")\n",
    "\n",
    "service.wait_for_deployment(show_output=True)\n"
   ]
  }
 ],
 "metadata": {
  "interpreter": {
   "hash": "d8c2c830ee423e437a1692c62d7ec975894aa2a778a66c89e5cf73f15552e52b"
  },
  "kernelspec": {
   "display_name": "Python 3.9.7 ('env': venv)",
   "language": "python",
   "name": "python3"
  },
  "language_info": {
   "codemirror_mode": {
    "name": "ipython",
    "version": 3
   },
   "file_extension": ".py",
   "mimetype": "text/x-python",
   "name": "python",
   "nbconvert_exporter": "python",
   "pygments_lexer": "ipython3",
   "version": "3.9.7"
  },
  "orig_nbformat": 4
 },
 "nbformat": 4,
 "nbformat_minor": 2
}
